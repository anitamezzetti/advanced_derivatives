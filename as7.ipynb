{
 "metadata": {
  "language_info": {
   "codemirror_mode": {
    "name": "ipython",
    "version": 3
   },
   "file_extension": ".py",
   "mimetype": "text/x-python",
   "name": "python",
   "nbconvert_exporter": "python",
   "pygments_lexer": "ipython3",
   "version": "3.7.4-final"
  },
  "orig_nbformat": 2,
  "kernelspec": {
   "name": "python3",
   "display_name": "Python 3"
  }
 },
 "nbformat": 4,
 "nbformat_minor": 2,
 "cells": [
  {
   "cell_type": "code",
   "execution_count": 186,
   "metadata": {},
   "outputs": [],
   "source": [
    "import math\n",
    "import numpy as np\n",
    "import pandas as pd\n",
    "import datetime as dt"
   ]
  },
  {
   "cell_type": "code",
   "execution_count": 215,
   "metadata": {},
   "outputs": [],
   "source": [
    "S0 = 100\n",
    "K = 98\n",
    "T = [0,0.25,0.5,0.75,1]\n",
    "dt = 0.25\n",
    "r = 0\n",
    "delta = 0.02\n",
    "#q1 sigma cst = 23%\n",
    "sigma = 0.23\n",
    "mcpath = 1000\n",
    "n = len(T)\n",
    "#matrix N*5\n",
    "#np.random.seed( 420 ) "
   ]
  },
  {
   "cell_type": "code",
   "execution_count": 216,
   "metadata": {},
   "outputs": [],
   "source": [
    "vol = 0.23\n",
    "var = vol ** 2\n",
    "dailyVol = np.sqrt( var / dt )\n",
    "time=1\n",
    "dt=0.25\n",
    "inter = time * dt"
   ]
  },
  {
   "cell_type": "code",
   "execution_count": 217,
   "metadata": {},
   "outputs": [],
   "source": [
    "S = np.zeros((mcpath,n))"
   ]
  },
  {
   "cell_type": "code",
   "execution_count": 218,
   "metadata": {},
   "outputs": [],
   "source": [
    "for i in range(0,mcpath):\n",
    "    t = 0 \n",
    "    W = 0 \n",
    "    C=np.ones(5)\n",
    "    for j in range(0,n):\n",
    "        if j==0:\n",
    "            C[j]=100\n",
    "        else:\n",
    "            W = np.random.normal(0,np.sqrt(dt))\n",
    "            C[j]=np.exp((r-delta-0.5*sigma**2)*dt+sigma*W)\n",
    "        S[i,j] = np.prod(C)"
   ]
  },
  {
   "cell_type": "code",
   "execution_count": 219,
   "metadata": {},
   "outputs": [],
   "source": [
    "# Compute A for t1 t2 t3 t3\n",
    "A = np.zeros((mcpath,n-1))\n",
    "A[:,0] = S[:,1]\n",
    "A[:,1] = (S[:,1] + S[:,2])/2\n",
    "A[:,2] = (S[:,1] + S[:,2] + S[:,3])/3\n",
    "A[:,3] = (S[:,1] + S[:,2] + S[:,3] + S[:,4])/4"
   ]
  },
  {
   "cell_type": "code",
   "execution_count": 220,
   "metadata": {},
   "outputs": [],
   "source": [
    "#def function to do the intrinsic value\n",
    "def intr(a):\n",
    "    res = np.array([])\n",
    "    for k in range(0,len(a)):\n",
    "        if a[k] > 0:\n",
    "            res = np.append(res,a[k])\n",
    "        else:\n",
    "            res = np.append(res,0)\n",
    "    return res"
   ]
  },
  {
   "cell_type": "code",
   "execution_count": 221,
   "metadata": {},
   "outputs": [],
   "source": [
    "C = np.zeros((mcpath,n))\n",
    "C[:,n-1] = intr(S[:,n-1]-K)\n",
    " "
   ]
  },
  {
   "cell_type": "code",
   "execution_count": 224,
   "metadata": {},
   "outputs": [],
   "source": [
    "for i in range(1,n):\n",
    "    # using a cst S,S^2,S^3,A,A^2,A^3\n",
    "    X = np.array([np.ones(mcpath),S[:,n-1-i],S[:,n-1-i]**2,S[:,n-1-i]**3,A[:,n-1-i],A[:,n-1-i]**2,A[:,n-1-i]**3]).T\n",
    "    Y = np.sum(path,axis = 1)\n",
    "    beta = np.dot(np.linalg.inv(np.dot(X.T,X)),np.dot(X.T,Y))\n",
    "    Y_reg = np.dot(X,beta)\n",
    "    stop = intr(S[:,n-1-i]-K) > Y_reg\n",
    "    C[:,n-1-i] = intr(S[:,n-1-i]-K)*stop\n",
    "    for j in range(0,mcpath):\n",
    "        if (C[j,n-i] > 0) and (stop[j] == True):\n",
    "            C[j,n-i] = 0"
   ]
  },
  {
   "cell_type": "code",
   "execution_count": 225,
   "metadata": {},
   "outputs": [
    {
     "output_type": "execute_result",
     "data": {
      "text/plain": [
       "9.663782221300732"
      ]
     },
     "metadata": {},
     "execution_count": 225
    }
   ],
   "source": [
    "price = sum(sum(C))/mcpath\n",
    "price"
   ]
  },
  {
   "cell_type": "code",
   "execution_count": null,
   "metadata": {},
   "outputs": [],
   "source": []
  }
 ]
}