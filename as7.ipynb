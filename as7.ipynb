{
 "metadata": {
  "language_info": {
   "codemirror_mode": {
    "name": "ipython",
    "version": 3
   },
   "file_extension": ".py",
   "mimetype": "text/x-python",
   "name": "python",
   "nbconvert_exporter": "python",
   "pygments_lexer": "ipython3",
   "version": "3.7.4-final"
  },
  "orig_nbformat": 2,
  "kernelspec": {
   "name": "python3",
   "display_name": "Python 3"
  }
 },
 "nbformat": 4,
 "nbformat_minor": 2,
 "cells": [
  {
   "cell_type": "code",
   "execution_count": 190,
   "metadata": {},
   "outputs": [],
   "source": [
    "import math\n",
    "import numpy as np\n",
    "import pandas as pd\n",
    "import datetime as dt\n",
    "import scipy.stats as si"
   ]
  },
  {
   "cell_type": "code",
   "execution_count": 366,
   "metadata": {},
   "outputs": [],
   "source": [
    "### parameters \n",
    "S0 = 100\n",
    "K = 98\n",
    "T = [0,0.25,0.5,0.75,1]\n",
    "r = .0\n",
    "delta = 0.02\n",
    "mcpath = 1000\n",
    "n = len(T)\n",
    "#matrix N*5\n",
    "np.random.seed( 420 ) "
   ]
  },
  {
   "source": [
    "## PART A"
   ],
   "cell_type": "code",
   "metadata": {},
   "execution_count": 367,
   "outputs": []
  },
  {
   "cell_type": "code",
   "execution_count": 368,
   "metadata": {},
   "outputs": [],
   "source": [
    "n = len(T) # number of periods\n",
    "sigma = 0.23 # Constant sigma \n",
    "dt = 0.25 # Constat time interval\n",
    "S = np.zeros((mcpath,n)) \n",
    "for i in range(0,mcpath):\n",
    "    t = 0 \n",
    "    W = 0 \n",
    "    C=np.ones(5)\n",
    "    for j in range(0,n):\n",
    "        if j==0:\n",
    "            C[j]=100\n",
    "        else:\n",
    "            W = np.random.normal(0,np.sqrt(dt))\n",
    "            C[j]=np.exp((r-delta-0.5*sigma**2)*dt+sigma*W)\n",
    "        S[i,j] = np.prod(C) # price path"
   ]
  },
  {
   "cell_type": "code",
   "execution_count": 369,
   "metadata": {},
   "outputs": [],
   "source": [
    "# Compute A for t1 t2 t3 t3\n",
    "A = np.zeros((mcpath,n-1))\n",
    "A[:,0] = S[:,1]\n",
    "A[:,1] = (S[:,1] + S[:,2])/2\n",
    "A[:,2] = (S[:,1] + S[:,2] + S[:,3])/3\n",
    "A[:,3] = (S[:,1] + S[:,2] + S[:,3] + S[:,4])/4"
   ]
  },
  {
   "cell_type": "code",
   "execution_count": 370,
   "metadata": {},
   "outputs": [],
   "source": [
    "## define function for the intrinsic value\n",
    "def intr(a):\n",
    "    res = np.array([])\n",
    "    for k in range(0,len(a)):\n",
    "        if a[k] > 0:\n",
    "            res = np.append(res,a[k]) \n",
    "        else:\n",
    "            res = np.append(res,0)\n",
    "    return res"
   ]
  },
  {
   "cell_type": "code",
   "execution_count": 373,
   "metadata": {},
   "outputs": [],
   "source": [
    "p=np.zeros((mcpath,1))\n",
    "C = np.zeros((mcpath,n))\n",
    "C[:,n-1] = intr(S[:,n-1]-K) # intrinsic value at the last period\n",
    "for i in range(1,n):\n",
    "    X = np.array([np.ones(mcpath),S[:,n-1-i],S[:,n-1-i]**2,S[:,n-1-i]**3,A[:,n-1-i],A[:,n-1-i]**2,A[:,n-1-i]**3]).T # variables on which \n",
    "    Y = np.sum(C,axis = 1) # cashflows received if not exercised \n",
    "    beta = np.dot(np.linalg.pinv(np.dot(X.T,X)),np.dot(X.T,Y)) # beta coefficients \n",
    "    Y_reg = np.dot(X,beta) # continuation value\n",
    "    stop = intr(S[:,n-1-i]-K) > Y_reg # determing optimal stopping points\n",
    "    C[:,n-1-i] = intr(S[:,n-1-i]-K)*stop # assign optimal stopping values to the cash flows\n",
    "    for j in range(0,mcpath):\n",
    "        #if (stop[j] == True):  \n",
    "            if (C[j,n-i-1] > (C[j,n-i])): #and (stop[j] == True):\n",
    "                C[j,n-i:n] = 0 # delate cashflows after optimal strike\n",
    "                \n",
    "p=np.amax(C, 1) # consider the highest continuation value (the intrinsic value at maturity)                   when is never optimal to exercise before the maturity "
   ]
  },
  {
   "cell_type": "code",
   "execution_count": 372,
   "metadata": {},
   "outputs": [
    {
     "output_type": "execute_result",
     "data": {
      "text/plain": [
       "12.268249381240059"
      ]
     },
     "metadata": {},
     "execution_count": 372
    }
   ],
   "source": [
    "price = sum(p.T)/mcpath\n",
    "price ## price using LSMC with constant volatility."
   ]
  },
  {
   "cell_type": "code",
   "execution_count": 201,
   "metadata": {},
   "outputs": [],
   "source": [
    "## BSM price of an European Call which is the lower boundary of the price of an american       call\n",
    "def bs(S, K, T, r, q, sigma):\n",
    "    \n",
    "    d1 = (np.log(S / K) + (r - q + 0.5 * sigma ** 2) * T) / (sigma * np.sqrt(T))\n",
    "    d2 = (np.log(S / K) + (r - q - 0.5 * sigma ** 2) * T) / (sigma * np.sqrt(T))\n",
    "    \n",
    "    call = (S * np.exp(-q * T) * si.norm.cdf(d1, 0.0, 1.0) - K * np.exp(-r * T) * si.norm.cdf(d2, 0.0, 1.0))\n",
    "    \n",
    "    return call \n",
    "bs(S0, K, 1,r,delta, sigma)"
   ]
  },
  {
   "cell_type": "code",
   "execution_count": 189,
   "metadata": {},
   "outputs": [
    {
     "output_type": "execute_result",
     "data": {
      "text/plain": [
       "8.983224650185882"
      ]
     },
     "metadata": {},
     "execution_count": 189
    }
   ],
   "source": [
    "bs(S0, K, 1,r,delta, sigma)"
   ]
  },
  {
   "source": [
    "## point b"
   ],
   "cell_type": "markdown",
   "metadata": {}
  },
  {
   "cell_type": "code",
   "execution_count": 61,
   "metadata": {},
   "outputs": [],
   "source": [
    "ind= pd.read_csv('/Users/francescomaizza/Documents/GitHub/advanced_derivatives/problem_set_7/strikes.csv',names=['s'])/2772.70"
   ]
  },
  {
   "cell_type": "code",
   "execution_count": 62,
   "metadata": {},
   "outputs": [],
   "source": [
    "mat=pd.read_csv('problem_set_7/maturities.csv')"
   ]
  },
  {
   "cell_type": "code",
   "execution_count": 63,
   "metadata": {},
   "outputs": [],
   "source": [
    "v=list(mat.columns)"
   ]
  },
  {
   "cell_type": "code",
   "execution_count": 90,
   "metadata": {},
   "outputs": [],
   "source": [
    "vol= pd.read_csv('/Users/francescomaizza/Documents/GitHub/advanced_derivatives/problem_set_7/impv_total.csv',names=v)\n",
    "vol.index=ind['s']"
   ]
  },
  {
   "cell_type": "code",
   "execution_count": 91,
   "metadata": {},
   "outputs": [
    {
     "output_type": "execute_result",
     "data": {
      "text/plain": [
       "             0.025         0.101         0.197         0.274         0.523  \\\n",
       "s                                                                            \n",
       "0.40  8.287686e-01  8.170852e-17  3.853516e-16  3.120542e-16  5.890001e-16   \n",
       "0.41  9.399773e-01  6.161537e-01  5.158837e-01  4.910442e-01  4.100280e-01   \n",
       "0.42  9.329367e-01  6.189532e-01  5.233756e-01  5.027064e-01  4.255322e-01   \n",
       "0.43  9.200532e-01  6.148949e-01  5.232228e-01  5.055190e-01  4.318259e-01   \n",
       "0.44  9.053031e-01  6.082117e-01  5.199562e-01  5.045818e-01  4.340538e-01   \n",
       "...            ...           ...           ...           ...           ...   \n",
       "1.96  5.418673e-01  2.746558e-01  2.364537e-01  2.094809e-01  1.845412e-01   \n",
       "1.97  4.206551e-16  2.798652e-01  2.362566e-01  2.091682e-01  1.837777e-01   \n",
       "1.98  5.520387e-01  2.815722e-01  2.355584e-01  2.083782e-01  1.823776e-01   \n",
       "1.99  4.206551e-16  3.062741e-16  2.335525e-01  2.063393e-01  1.794156e-01   \n",
       "2.00  4.206551e-16  3.791151e-16  3.658727e-16  1.741579e-01  1.228963e-01   \n",
       "\n",
       "         0.772         1           1.5     1.769  \n",
       "s                                                 \n",
       "0.40  0.157089  0.140222  3.284022e-16  0.102220  \n",
       "0.41  0.368878  0.343337  3.058936e-01  0.289128  \n",
       "0.42  0.386681  0.362494  3.268166e-01  0.310087  \n",
       "0.43  0.395100  0.372230  3.383986e-01  0.321951  \n",
       "0.44  0.399283  0.377658  3.456183e-01  0.329547  \n",
       "...        ...       ...           ...       ...  \n",
       "1.96  0.168413  0.157601  1.569358e-01  0.165017  \n",
       "1.97  0.167374  0.156402  1.549458e-01  0.162194  \n",
       "1.98  0.165643  0.154487  1.519794e-01  0.158148  \n",
       "1.99  0.162240  0.150859  1.467684e-01  0.151345  \n",
       "2.00  0.105183  0.091209  7.523154e-02  0.069214  \n",
       "\n",
       "[161 rows x 9 columns]"
      ],
      "text/html": "<div>\n<style scoped>\n    .dataframe tbody tr th:only-of-type {\n        vertical-align: middle;\n    }\n\n    .dataframe tbody tr th {\n        vertical-align: top;\n    }\n\n    .dataframe thead th {\n        text-align: right;\n    }\n</style>\n<table border=\"1\" class=\"dataframe\">\n  <thead>\n    <tr style=\"text-align: right;\">\n      <th></th>\n      <th>0.025</th>\n      <th>0.101</th>\n      <th>0.197</th>\n      <th>0.274</th>\n      <th>0.523</th>\n      <th>0.772</th>\n      <th>1</th>\n      <th>1.5</th>\n      <th>1.769</th>\n    </tr>\n    <tr>\n      <th>s</th>\n      <th></th>\n      <th></th>\n      <th></th>\n      <th></th>\n      <th></th>\n      <th></th>\n      <th></th>\n      <th></th>\n      <th></th>\n    </tr>\n  </thead>\n  <tbody>\n    <tr>\n      <td>0.40</td>\n      <td>8.287686e-01</td>\n      <td>8.170852e-17</td>\n      <td>3.853516e-16</td>\n      <td>3.120542e-16</td>\n      <td>5.890001e-16</td>\n      <td>0.157089</td>\n      <td>0.140222</td>\n      <td>3.284022e-16</td>\n      <td>0.102220</td>\n    </tr>\n    <tr>\n      <td>0.41</td>\n      <td>9.399773e-01</td>\n      <td>6.161537e-01</td>\n      <td>5.158837e-01</td>\n      <td>4.910442e-01</td>\n      <td>4.100280e-01</td>\n      <td>0.368878</td>\n      <td>0.343337</td>\n      <td>3.058936e-01</td>\n      <td>0.289128</td>\n    </tr>\n    <tr>\n      <td>0.42</td>\n      <td>9.329367e-01</td>\n      <td>6.189532e-01</td>\n      <td>5.233756e-01</td>\n      <td>5.027064e-01</td>\n      <td>4.255322e-01</td>\n      <td>0.386681</td>\n      <td>0.362494</td>\n      <td>3.268166e-01</td>\n      <td>0.310087</td>\n    </tr>\n    <tr>\n      <td>0.43</td>\n      <td>9.200532e-01</td>\n      <td>6.148949e-01</td>\n      <td>5.232228e-01</td>\n      <td>5.055190e-01</td>\n      <td>4.318259e-01</td>\n      <td>0.395100</td>\n      <td>0.372230</td>\n      <td>3.383986e-01</td>\n      <td>0.321951</td>\n    </tr>\n    <tr>\n      <td>0.44</td>\n      <td>9.053031e-01</td>\n      <td>6.082117e-01</td>\n      <td>5.199562e-01</td>\n      <td>5.045818e-01</td>\n      <td>4.340538e-01</td>\n      <td>0.399283</td>\n      <td>0.377658</td>\n      <td>3.456183e-01</td>\n      <td>0.329547</td>\n    </tr>\n    <tr>\n      <td>...</td>\n      <td>...</td>\n      <td>...</td>\n      <td>...</td>\n      <td>...</td>\n      <td>...</td>\n      <td>...</td>\n      <td>...</td>\n      <td>...</td>\n      <td>...</td>\n    </tr>\n    <tr>\n      <td>1.96</td>\n      <td>5.418673e-01</td>\n      <td>2.746558e-01</td>\n      <td>2.364537e-01</td>\n      <td>2.094809e-01</td>\n      <td>1.845412e-01</td>\n      <td>0.168413</td>\n      <td>0.157601</td>\n      <td>1.569358e-01</td>\n      <td>0.165017</td>\n    </tr>\n    <tr>\n      <td>1.97</td>\n      <td>4.206551e-16</td>\n      <td>2.798652e-01</td>\n      <td>2.362566e-01</td>\n      <td>2.091682e-01</td>\n      <td>1.837777e-01</td>\n      <td>0.167374</td>\n      <td>0.156402</td>\n      <td>1.549458e-01</td>\n      <td>0.162194</td>\n    </tr>\n    <tr>\n      <td>1.98</td>\n      <td>5.520387e-01</td>\n      <td>2.815722e-01</td>\n      <td>2.355584e-01</td>\n      <td>2.083782e-01</td>\n      <td>1.823776e-01</td>\n      <td>0.165643</td>\n      <td>0.154487</td>\n      <td>1.519794e-01</td>\n      <td>0.158148</td>\n    </tr>\n    <tr>\n      <td>1.99</td>\n      <td>4.206551e-16</td>\n      <td>3.062741e-16</td>\n      <td>2.335525e-01</td>\n      <td>2.063393e-01</td>\n      <td>1.794156e-01</td>\n      <td>0.162240</td>\n      <td>0.150859</td>\n      <td>1.467684e-01</td>\n      <td>0.151345</td>\n    </tr>\n    <tr>\n      <td>2.00</td>\n      <td>4.206551e-16</td>\n      <td>3.791151e-16</td>\n      <td>3.658727e-16</td>\n      <td>1.741579e-01</td>\n      <td>1.228963e-01</td>\n      <td>0.105183</td>\n      <td>0.091209</td>\n      <td>7.523154e-02</td>\n      <td>0.069214</td>\n    </tr>\n  </tbody>\n</table>\n<p>161 rows × 9 columns</p>\n</div>"
     },
     "metadata": {},
     "execution_count": 91
    }
   ],
   "source": [
    "vol"
   ]
  },
  {
   "cell_type": "code",
   "execution_count": 92,
   "metadata": {},
   "outputs": [],
   "source": [
    "localvol=vol.loc[K/S0,:]"
   ]
  },
  {
   "cell_type": "code",
   "execution_count": 95,
   "metadata": {},
   "outputs": [
    {
     "output_type": "execute_result",
     "data": {
      "text/plain": [
       "0        0.000000\n",
       "0.025    0.243042\n",
       "0.101    0.234660\n",
       "0.197    0.229002\n",
       "0.274    0.230074\n",
       "0.523    0.231015\n",
       "0.772    0.232364\n",
       "1        0.233548\n",
       "1.5      0.230463\n",
       "1.769    0.236573\n",
       "dtype: float64"
      ]
     },
     "metadata": {},
     "execution_count": 95
    }
   ],
   "source": [
    "localvol=pd.concat([pd.Series([0]), localvol])"
   ]
  },
  {
   "cell_type": "code",
   "execution_count": 249,
   "metadata": {},
   "outputs": [
    {
     "output_type": "execute_result",
     "data": {
      "text/plain": [
       "0.23341553806295734"
      ]
     },
     "metadata": {},
     "execution_count": 249
    }
   ],
   "source": [
    "localvol.mean()"
   ]
  },
  {
   "cell_type": "code",
   "execution_count": 342,
   "metadata": {},
   "outputs": [],
   "source": [
    "n=len(localvol.index)\n",
    "S = np.zeros((mcpath,n))\n",
    "for i in range(0,mcpath):\n",
    "    t = 0 \n",
    "    W = 0 \n",
    "    C=np.ones(n2)\n",
    "    for j in range(0,n2):\n",
    "        if j==0:\n",
    "            C[j]=100\n",
    "        else:\n",
    "            dt=float(localvol.index[j])-float(localvol.index[j-1])\n",
    "            W = np.random.normal(0,np.sqrt(dt))\n",
    "            C[j]=np.exp((r-delta-0.5*localvol[j]**2)*dt+localvol[j]*W)\n",
    "        S[i,j] = np.prod(C)"
   ]
  },
  {
   "cell_type": "code",
   "execution_count": 343,
   "metadata": {},
   "outputs": [],
   "source": [
    "A = np.zeros((mcpath,n-1))\n",
    "A[:,0] = S[:,1]\n",
    "A[:,1] = (S[:,1] + S[:,2])/2\n",
    "A[:,2] = (S[:,1] + S[:,2] + S[:,3])/3\n",
    "A[:,3] = (S[:,1] + S[:,2] + S[:,3] + S[:,4])/4"
   ]
  },
  {
   "cell_type": "code",
   "execution_count": 344,
   "metadata": {},
   "outputs": [],
   "source": [
    "C = np.zeros((mcpath,n))\n",
    "C[:,n-1] = intr(S[:,n-1]-K)\n",
    "p=np.zeros((mcpath,1))\n",
    "for i in range(1,n):\n",
    "    X = np.array([np.ones(mcpath),S[:,n-1-i],S[:,n-1-i]**2,S[:,n-1-i]**3,A[:,n-1-i],A[:,n-1-i]**2,A[:,n-1-i]**3]).T\n",
    "    Y = np.sum(C,axis = 1) \n",
    "    beta = np.dot(np.linalg.pinv(np.dot(X.T,X)),np.dot(X.T,Y))\n",
    "    Y_reg = np.dot(X,beta)\n",
    "    stop = intr(S[:,n-1-i]-K) > Y_reg\n",
    "    C[:,n-1-i] = intr(S[:,n-1-i]-K)*stop\n",
    "    for j in range(0,mcpath):\n",
    "        if (stop[j] == True):  \n",
    "            if (C[j,n-i-1] > (C[j,n-i])) and (stop[j] == True):\n",
    "                C[j,n-i:] = 0\n",
    "p = np.amax(C, 1)"
   ]
  },
  {
   "cell_type": "code",
   "execution_count": 355,
   "metadata": {},
   "outputs": [
    {
     "output_type": "execute_result",
     "data": {
      "text/plain": [
       "12.4386725864031"
      ]
     },
     "metadata": {},
     "execution_count": 355
    }
   ],
   "source": [
    "price = sum(p.T)/mcpath\n",
    "price"
   ]
  },
  {
   "cell_type": "code",
   "execution_count": null,
   "metadata": {},
   "outputs": [],
   "source": []
  }
 ]
}