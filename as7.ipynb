{
 "metadata": {
  "language_info": {
   "codemirror_mode": {
    "name": "ipython",
    "version": 3
   },
   "file_extension": ".py",
   "mimetype": "text/x-python",
   "name": "python",
   "nbconvert_exporter": "python",
   "pygments_lexer": "ipython3",
   "version": "3.7.4-final"
  },
  "orig_nbformat": 2,
  "kernelspec": {
   "name": "python3",
   "display_name": "Python 3"
  }
 },
 "nbformat": 4,
 "nbformat_minor": 2,
 "cells": [
  {
   "cell_type": "code",
   "execution_count": 2,
   "metadata": {},
   "outputs": [],
   "source": [
    "import math\n",
    "import numpy as np\n",
    "import pandas as pd\n",
    "import datetime as dt\n",
    "import scipy.stats as si"
   ]
  },
  {
   "cell_type": "code",
   "execution_count": 37,
   "metadata": {},
   "outputs": [],
   "source": [
    "S0 = 100\n",
    "K = 98\n",
    "T = [0,0.25,0.5,0.75,1]\n",
    "dt = 0.25\n",
    "r = 0\n",
    "delta = 0.02\n",
    "#q1 sigma cst = 23%\n",
    "sigma = 0.23\n",
    "mcpath = 1000\n",
    "n = len(T)\n",
    "#matrix N*5\n",
    "np.random.seed( 420 ) "
   ]
  },
  {
   "cell_type": "code",
   "execution_count": 38,
   "metadata": {},
   "outputs": [],
   "source": [
    "vol = 0.23\n",
    "var = vol ** 2\n",
    "dailyVol = np.sqrt( var / dt )\n",
    "time=1\n",
    "dt=0.25\n",
    "inter = time * dt"
   ]
  },
  {
   "cell_type": "code",
   "execution_count": 39,
   "metadata": {},
   "outputs": [],
   "source": [
    "S = np.zeros((mcpath,n))"
   ]
  },
  {
   "cell_type": "code",
   "execution_count": 40,
   "metadata": {},
   "outputs": [],
   "source": [
    "for i in range(0,mcpath):\n",
    "    t = 0 \n",
    "    W = 0 \n",
    "    C=np.ones(5)\n",
    "    for j in range(0,n):\n",
    "        if j==0:\n",
    "            C[j]=100\n",
    "        else:\n",
    "            W = np.random.normal(0,np.sqrt(dt))\n",
    "            C[j]=np.exp((r-delta-0.5*sigma**2)*dt+sigma*W)\n",
    "        S[i,j] = np.prod(C)"
   ]
  },
  {
   "cell_type": "code",
   "execution_count": 41,
   "metadata": {},
   "outputs": [],
   "source": [
    "# Compute A for t1 t2 t3 t3\n",
    "A = np.zeros((mcpath,n-1))\n",
    "A[:,0] = S[:,1]\n",
    "A[:,1] = (S[:,1] + S[:,2])/2\n",
    "A[:,2] = (S[:,1] + S[:,2] + S[:,3])/3\n",
    "A[:,3] = (S[:,1] + S[:,2] + S[:,3] + S[:,4])/4"
   ]
  },
  {
   "cell_type": "code",
   "execution_count": 42,
   "metadata": {},
   "outputs": [],
   "source": [
    "#def function to do the intrinsic value\n",
    "def intr(a):\n",
    "    res = np.array([])\n",
    "    for k in range(0,len(a)):\n",
    "        if a[k] > 0:\n",
    "            res = np.append(res,a[k])\n",
    "        else:\n",
    "            res = np.append(res,0)\n",
    "    return res"
   ]
  },
  {
   "cell_type": "code",
   "execution_count": 108,
   "metadata": {},
   "outputs": [],
   "source": [
    "C = np.zeros((mcpath,n))\n",
    "C[:,n-1] = intr(S[:,n-1]-K)\n",
    "for i in range(1,n):\n",
    "    X = np.array([np.ones(mcpath),S[:,n-1-i],S[:,n-1-i]**2,S[:,n-1-i]**3,A[:,n-1-i],A[:,n-1-i]**2,A[:,n-1-i]**3]).T\n",
    "    Y = np.sum(C,axis = 1) \n",
    "    beta = np.dot(np.linalg.inv(np.dot(X.T,X)),np.dot(X.T,Y))\n",
    "    Y_reg = np.dot(X,beta)\n",
    "    stop = intr(S[:,n-1-i]-K) > Y_reg\n",
    "    C[:,n-1-i] = intr(S[:,n-1-i]-K)*stop\n",
    "    for j in range(0,mcpath):\n",
    "        if (stop[j] == True):  \n",
    "            if (C[j,n-i-1] > (C[j,n-i])) and (stop[j] == True):\n",
    "                C[j,n-i:n] = 0"
   ]
  },
  {
   "cell_type": "code",
   "execution_count": 109,
   "metadata": {},
   "outputs": [
    {
     "output_type": "execute_result",
     "data": {
      "text/plain": [
       "       0         1          2          3          4\n",
       "0    0.0   0.00000   0.000000   0.000000   0.000000\n",
       "1    0.0   0.00000  15.058820   0.000000   0.000000\n",
       "2    0.0   0.00000  39.863161   0.000000   0.000000\n",
       "3    0.0   0.00000   0.000000   0.000000   0.000000\n",
       "4    0.0   0.00000   0.000000   0.000000  11.674056\n",
       "..   ...       ...        ...        ...        ...\n",
       "995  0.0   0.00000   0.000000  36.257348   0.000000\n",
       "996  0.0   0.00000   0.000000   0.000000   0.000000\n",
       "997  0.0   0.00000   0.000000  30.627580   0.000000\n",
       "998  0.0  12.77337   0.000000   0.000000   0.000000\n",
       "999  0.0   0.00000   0.000000  32.812602   0.000000\n",
       "\n",
       "[1000 rows x 5 columns]"
      ],
      "text/html": "<div>\n<style scoped>\n    .dataframe tbody tr th:only-of-type {\n        vertical-align: middle;\n    }\n\n    .dataframe tbody tr th {\n        vertical-align: top;\n    }\n\n    .dataframe thead th {\n        text-align: right;\n    }\n</style>\n<table border=\"1\" class=\"dataframe\">\n  <thead>\n    <tr style=\"text-align: right;\">\n      <th></th>\n      <th>0</th>\n      <th>1</th>\n      <th>2</th>\n      <th>3</th>\n      <th>4</th>\n    </tr>\n  </thead>\n  <tbody>\n    <tr>\n      <td>0</td>\n      <td>0.0</td>\n      <td>0.00000</td>\n      <td>0.000000</td>\n      <td>0.000000</td>\n      <td>0.000000</td>\n    </tr>\n    <tr>\n      <td>1</td>\n      <td>0.0</td>\n      <td>0.00000</td>\n      <td>15.058820</td>\n      <td>0.000000</td>\n      <td>0.000000</td>\n    </tr>\n    <tr>\n      <td>2</td>\n      <td>0.0</td>\n      <td>0.00000</td>\n      <td>39.863161</td>\n      <td>0.000000</td>\n      <td>0.000000</td>\n    </tr>\n    <tr>\n      <td>3</td>\n      <td>0.0</td>\n      <td>0.00000</td>\n      <td>0.000000</td>\n      <td>0.000000</td>\n      <td>0.000000</td>\n    </tr>\n    <tr>\n      <td>4</td>\n      <td>0.0</td>\n      <td>0.00000</td>\n      <td>0.000000</td>\n      <td>0.000000</td>\n      <td>11.674056</td>\n    </tr>\n    <tr>\n      <td>...</td>\n      <td>...</td>\n      <td>...</td>\n      <td>...</td>\n      <td>...</td>\n      <td>...</td>\n    </tr>\n    <tr>\n      <td>995</td>\n      <td>0.0</td>\n      <td>0.00000</td>\n      <td>0.000000</td>\n      <td>36.257348</td>\n      <td>0.000000</td>\n    </tr>\n    <tr>\n      <td>996</td>\n      <td>0.0</td>\n      <td>0.00000</td>\n      <td>0.000000</td>\n      <td>0.000000</td>\n      <td>0.000000</td>\n    </tr>\n    <tr>\n      <td>997</td>\n      <td>0.0</td>\n      <td>0.00000</td>\n      <td>0.000000</td>\n      <td>30.627580</td>\n      <td>0.000000</td>\n    </tr>\n    <tr>\n      <td>998</td>\n      <td>0.0</td>\n      <td>12.77337</td>\n      <td>0.000000</td>\n      <td>0.000000</td>\n      <td>0.000000</td>\n    </tr>\n    <tr>\n      <td>999</td>\n      <td>0.0</td>\n      <td>0.00000</td>\n      <td>0.000000</td>\n      <td>32.812602</td>\n      <td>0.000000</td>\n    </tr>\n  </tbody>\n</table>\n<p>1000 rows × 5 columns</p>\n</div>"
     },
     "metadata": {},
     "execution_count": 109
    }
   ],
   "source": [
    "pd.DataFrame(C) "
   ]
  },
  {
   "cell_type": "code",
   "execution_count": 110,
   "metadata": {},
   "outputs": [
    {
     "output_type": "execute_result",
     "data": {
      "text/plain": [
       "13.627884653033096"
      ]
     },
     "metadata": {},
     "execution_count": 110
    }
   ],
   "source": [
    "price = sum(sum(C))/mcpath\n",
    "price "
   ]
  },
  {
   "cell_type": "code",
   "execution_count": 111,
   "metadata": {},
   "outputs": [],
   "source": [
    "def bs(S, K, T, r, q, sigma):\n",
    "    \n",
    "    d1 = (np.log(S / K) + (r - q + 0.5 * sigma ** 2) * T) / (sigma * np.sqrt(T))\n",
    "    d2 = (np.log(S / K) + (r - q - 0.5 * sigma ** 2) * T) / (sigma * np.sqrt(T))\n",
    "    \n",
    "    call = (S * np.exp(-q * T) * si.norm.cdf(d1, 0.0, 1.0) - K * np.exp(-r * T) * si.norm.cdf(d2, 0.0, 1.0))\n",
    "    \n",
    "    return call"
   ]
  },
  {
   "cell_type": "code",
   "execution_count": 112,
   "metadata": {},
   "outputs": [
    {
     "output_type": "execute_result",
     "data": {
      "text/plain": [
       "8.983224650185882"
      ]
     },
     "metadata": {},
     "execution_count": 112
    }
   ],
   "source": [
    "bs(S0, K, 1,r,delta, sigma)"
   ]
  },
  {
   "cell_type": "code",
   "execution_count": null,
   "metadata": {},
   "outputs": [],
   "source": []
  }
 ]
}