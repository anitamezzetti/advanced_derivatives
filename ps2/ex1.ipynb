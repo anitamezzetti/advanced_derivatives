{
 "metadata": {
  "language_info": {
   "codemirror_mode": {
    "name": "ipython",
    "version": 3
   },
   "file_extension": ".py",
   "mimetype": "text/x-python",
   "name": "python",
   "nbconvert_exporter": "python",
   "pygments_lexer": "ipython3",
   "version": "3.7.4-final"
  },
  "orig_nbformat": 2,
  "kernelspec": {
   "name": "python_defaultSpec_1600779569053",
   "display_name": "Python 3.7.4 64-bit ('base': conda)"
  }
 },
 "nbformat": 4,
 "nbformat_minor": 2,
 "cells": [
  {
   "cell_type": "code",
   "execution_count": 120,
   "metadata": {},
   "outputs": [],
   "source": [
    "import numpy as np\n",
    "import pandas as pd \n",
    "import matplotlib.pyplot as plt\n",
    "from scipy import stats\n",
    "import scipy.optimize"
   ]
  },
  {
   "cell_type": "code",
   "execution_count": 121,
   "metadata": {},
   "outputs": [],
   "source": [
    " \n",
    "T = 10\n",
    "r = 0.05\n",
    "sigma = 0.4\n",
    "S = 100\n",
    "K = 50\n",
    "t=0"
   ]
  },
  {
   "cell_type": "code",
   "execution_count": 122,
   "metadata": {},
   "outputs": [],
   "source": [
    "def price_call(S, K, T, t, r, sigma):\n",
    "    d1 = 1/(sigma*np.sqrt(T-t))*np.log(S*np.exp(r*(T-t))/K) + sigma*np.sqrt(T-t)/2\n",
    "    d2 = 1/(sigma*np.sqrt(T-t))*np.log(S*np.exp(r*(T-t))/K) - sigma*np.sqrt(T-t)/2\n",
    "    return S*stats.norm.cdf(d1) - np.exp(-r*(T-t))*K*stats.norm.cdf(d2)\n",
    "\n",
    "C0 = price_call(S, K, T, 0, r, sigma)\n"
   ]
  },
  {
   "cell_type": "code",
   "execution_count": 123,
   "metadata": {},
   "outputs": [],
   "source": [
    "C0 = price_call(S, K, T, 0, r, sigma) #current value of the firm’s equity"
   ]
  },
  {
   "cell_type": "code",
   "execution_count": 124,
   "metadata": {},
   "outputs": [],
   "source": [
    "## call on call"
   ]
  },
  {
   "cell_type": "code",
   "execution_count": 125,
   "metadata": {},
   "outputs": [],
   "source": [
    "k = [0.60, 0.80, 1, 1.2]\n",
    "k = pd.Series(k)*C0\n",
    "tu = [2,5,7,9]\n",
    "tau=pd.Series(tu)\n",
    "s_star = np.zeros((4,4))"
   ]
  },
  {
   "cell_type": "code",
   "execution_count": 126,
   "metadata": {
    "tags": []
   },
   "outputs": [
    {
     "output_type": "stream",
     "name": "stdout",
     "text": "Optimization terminated successfully.\n         Current function value: 0.000000\n         Iterations: 21\n         Function evaluations: 42\nOptimization terminated successfully.\n         Current function value: 0.000000\n         Iterations: 20\n         Function evaluations: 40\nOptimization terminated successfully.\n         Current function value: 0.000000\n         Iterations: 20\n         Function evaluations: 40\nOptimization terminated successfully.\n         Current function value: 0.000000\n         Iterations: 19\n         Function evaluations: 38\nOptimization terminated successfully.\n         Current function value: 0.000000\n         Iterations: 19\n         Function evaluations: 38\nOptimization terminated successfully.\n         Current function value: 0.000000\n         Iterations: 18\n         Function evaluations: 36\nOptimization terminated successfully.\n         Current function value: 0.000000\n         Iterations: 17\n         Function evaluations: 34\nOptimization terminated successfully.\n         Current function value: 0.000000\n         Iterations: 18\n         Function evaluations: 36\nOptimization terminated successfully.\n         Current function value: 0.000000\n         Iterations: 17\n         Function evaluations: 34\nOptimization terminated successfully.\n         Current function value: 0.000000\n         Iterations: 18\n         Function evaluations: 36\nOptimization terminated successfully.\n         Current function value: 0.000000\n         Iterations: 19\n         Function evaluations: 38\nOptimization terminated successfully.\n         Current function value: 0.000000\n         Iterations: 20\n         Function evaluations: 40\nOptimization terminated successfully.\n         Current function value: 0.000000\n         Iterations: 19\n         Function evaluations: 38\nOptimization terminated successfully.\n         Current function value: 0.000000\n         Iterations: 20\n         Function evaluations: 40\nOptimization terminated successfully.\n         Current function value: 0.000000\n         Iterations: 21\n         Function evaluations: 42\nOptimization terminated successfully.\n         Current function value: 0.000000\n         Iterations: 21\n         Function evaluations: 42\n"
    }
   ],
   "source": [
    "s_star = np.zeros((4,4))\n",
    "#Find s* using a minimisation function\n",
    "i=0\n",
    "j=0\n",
    "for i in range(len(k)):\n",
    "    for j in range(len(tau)):\n",
    "        error = lambda X: (price_call(X, K, T, tau[j], r, sigma)-k[i])**2\n",
    "        s_star[i,j] = scipy.optimize.fmin(func=error,x0=S) "
   ]
  },
  {
   "cell_type": "code",
   "execution_count": 127,
   "metadata": {},
   "outputs": [
    {
     "output_type": "execute_result",
     "data": {
      "text/plain": "array([[ 71.07559204,  78.38737488,  84.766922  ,  92.25997925],\n       [ 87.69226074,  94.96421814, 101.03637695, 107.65327454],\n       [103.86741638, 111.05072021, 116.84333801, 122.85415649],\n       [119.76531982, 126.84074402, 132.38945007, 137.98118591]])"
     },
     "metadata": {},
     "execution_count": 127
    }
   ],
   "source": [
    "s_star"
   ]
  },
  {
   "cell_type": "code",
   "execution_count": 145,
   "metadata": {},
   "outputs": [],
   "source": [
    "tau=tau.to_numpy()"
   ]
  },
  {
   "cell_type": "code",
   "execution_count": 206,
   "metadata": {},
   "outputs": [],
   "source": [
    "a_1 = (np.log(S/s_star) + (r+(sigma**2)/2)*(tau -t))/(sigma*np.sqrt(tau-t))\n",
    "a_2 = a_1 - sigma*np.sqrt(tau-t)\n",
    "b_1 = (np.log(S/D) + (r+sigma**2/2)*(T - t))/(sigma*np.sqrt(T-t))\n",
    "b_2 = b_1 - sigma*np.sqrt(T-t)\n",
    "rho = np.sqrt((tau-t)/(T-t))\n",
    "#mu = zeros(2,1)"
   ]
  },
  {
   "cell_type": "code",
   "execution_count": 209,
   "metadata": {},
   "outputs": [
    {
     "output_type": "execute_result",
     "data": {
      "text/plain": "0.3108101365607241"
     },
     "metadata": {},
     "execution_count": 209
    }
   ],
   "source": [
    "b_2"
   ]
  },
  {
   "cell_type": "code",
   "execution_count": null,
   "metadata": {},
   "outputs": [],
   "source": []
  }
 ]
}