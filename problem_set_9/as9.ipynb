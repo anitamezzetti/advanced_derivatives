{
 "metadata": {
  "language_info": {
   "codemirror_mode": {
    "name": "ipython",
    "version": 3
   },
   "file_extension": ".py",
   "mimetype": "text/x-python",
   "name": "python",
   "nbconvert_exporter": "python",
   "pygments_lexer": "ipython3",
   "version": "3.7.4-final"
  },
  "orig_nbformat": 2,
  "kernelspec": {
   "name": "python3",
   "display_name": "Python 3"
  }
 },
 "nbformat": 4,
 "nbformat_minor": 2,
 "cells": [
  {
   "cell_type": "code",
   "execution_count": 8,
   "metadata": {},
   "outputs": [],
   "source": [
    "import numpy as np \n",
    "import random as rd\n",
    "import matplotlib.pyplot as plt\n",
    "from scipy.stats import norm\n",
    " "
   ]
  },
  {
   "source": [
    "## Method 1: analytical formula"
   ],
   "cell_type": "markdown",
   "metadata": {}
  },
  {
   "cell_type": "code",
   "execution_count": 3,
   "metadata": {},
   "outputs": [],
   "source": [
    "def B(T1,T2):\n",
    "     B = 1/k*(1-np.exp(-k*(T2-T1)))\n",
    "     return B"
   ]
  },
  {
   "cell_type": "code",
   "execution_count": 5,
   "metadata": {},
   "outputs": [],
   "source": [
    "def bond_price(T1,T2,r,theta,sigma,k): ## function for determing bond price\n",
    "    A = np.exp((theta-sigma**2/(2*k**2))*( B(T1,T2)-(T2-T1))-sigma**2/(4*k)* B(T1,T2)**2)\n",
    "    return A*np.exp(- B(T1,T2)*r)\n"
   ]
  },
  {
   "cell_type": "code",
   "execution_count": 10,
   "metadata": {},
   "outputs": [],
   "source": [
    "strike = 0.805\n",
    "k = 0.15\n",
    "sigma_r = 0.01\n",
    "theta = 0.05\n",
    "r0 = 0.042\n",
    "T1 = 0.25 # 3 months expiration date put option\n",
    "T2 = 5.25\n",
    "\n",
    "sigma_t = sigma_r*np.sqrt((1-np.exp(-2*k*T1))/(2*k))* B(T1,T2)\n",
    "h=1/sigma_t*np.log(bond_price(0,T2,r0,theta,sigma_r,k)/(strike*bond_price(0,T1,r0,theta,sigma_r,k)))+sigma_t/2"
   ]
  },
  {
   "cell_type": "code",
   "execution_count": 11,
   "metadata": {},
   "outputs": [],
   "source": [
    "price_1 = strike*bond_price(0,T1,r0,theta,sigma_r,k)*norm.cdf(-h+sigma_t)-bond_price(0,T2,r0,theta,sigma_r,k)*norm.cdf(-h)"
   ]
  },
  {
   "cell_type": "code",
   "execution_count": null,
   "metadata": {},
   "outputs": [],
   "source": []
  },
  {
   "cell_type": "code",
   "execution_count": 14,
   "metadata": {},
   "outputs": [
    {
     "output_type": "stream",
     "name": "stdout",
     "text": [
      "rice of ZBP using the analytical formula is 0.0074897997038153585\n"
     ]
    }
   ],
   "source": [
    " print('price of ZBP using the analytical formula is', price_1)"
   ]
  },
  {
   "cell_type": "code",
   "execution_count": null,
   "metadata": {},
   "outputs": [],
   "source": []
  }
 ]
}