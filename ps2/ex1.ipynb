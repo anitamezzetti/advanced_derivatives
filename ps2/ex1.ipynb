{
 "metadata": {
  "language_info": {
   "codemirror_mode": {
    "name": "ipython",
    "version": 3
   },
   "file_extension": ".py",
   "mimetype": "text/x-python",
   "name": "python",
   "nbconvert_exporter": "python",
   "pygments_lexer": "ipython3",
   "version": "3.7.4-final"
  },
  "orig_nbformat": 2,
  "kernelspec": {
   "name": "python_defaultSpec_1600779569053",
   "display_name": "Python 3.7.4 64-bit ('base': conda)"
  }
 },
 "nbformat": 4,
 "nbformat_minor": 2,
 "cells": [
  {
   "cell_type": "code",
   "execution_count": 351,
   "metadata": {},
   "outputs": [],
   "source": [
    "import numpy as np\n",
    "import pandas as pd \n",
    "import matplotlib.pyplot as plt\n",
    "from scipy import stats\n",
    "import scipy.optimize\n",
    "from scipy.stats import multivariate_normal as mvn\n",
    "from scipy.stats import norm\n",
    "from numpy import matlib\n"
   ]
  },
  {
   "cell_type": "code",
   "execution_count": 310,
   "metadata": {},
   "outputs": [],
   "source": [
    " \n",
    "T = 10\n",
    "r = 0.05\n",
    "sigma = 0.4\n",
    "S = 100\n",
    "D = 50\n",
    "t=0"
   ]
  },
  {
   "cell_type": "code",
   "execution_count": 311,
   "metadata": {},
   "outputs": [],
   "source": [
    "def price_call(S, K, T, t, r, sigma):\n",
    "    d1 = 1/(sigma*np.sqrt(T-t))*np.log(S*np.exp(r*(T-t))/K) + sigma*np.sqrt(T-t)/2\n",
    "    d2 = 1/(sigma*np.sqrt(T-t))*np.log(S*np.exp(r*(T-t))/K) - sigma*np.sqrt(T-t)/2\n",
    "    return S*stats.norm.cdf(d1) - np.exp(-r*(T-t))*K*stats.norm.cdf(d2)\n",
    "\n"
   ]
  },
  {
   "cell_type": "code",
   "execution_count": 322,
   "metadata": {},
   "outputs": [
    {
     "output_type": "execute_result",
     "data": {
      "text/plain": "75.38155847862096"
     },
     "metadata": {},
     "execution_count": 322
    }
   ],
   "source": [
    "C0 = price_call(S, K, T, 0, r, sigma) #current value of the firm’s equity\n",
    "C0"
   ]
  },
  {
   "cell_type": "code",
   "execution_count": 313,
   "metadata": {},
   "outputs": [],
   "source": [
    "## call on call"
   ]
  },
  {
   "cell_type": "code",
   "execution_count": 314,
   "metadata": {},
   "outputs": [],
   "source": [
    "k = [0.60, 0.80, 1, 1.2]\n",
    "k = pd.Series(k)*C0\n",
    "tu = [2,5,7,9]\n",
    "tau=pd.Series(tu)\n",
    "s_star = np.zeros((4,4))"
   ]
  },
  {
   "cell_type": "code",
   "execution_count": 337,
   "metadata": {
    "tags": []
   },
   "outputs": [
    {
     "output_type": "stream",
     "name": "stdout",
     "text": "Optimization terminated successfully.\n         Current function value: 0.000000\n         Iterations: 21\n         Function evaluations: 42\nOptimization terminated successfully.\n         Current function value: 0.000000\n         Iterations: 20\n         Function evaluations: 40\nOptimization terminated successfully.\n         Current function value: 0.000000\n         Iterations: 20\n         Function evaluations: 40\nOptimization terminated successfully.\n         Current function value: 0.000000\n         Iterations: 19\n         Function evaluations: 38\nOptimization terminated successfully.\n         Current function value: 0.000000\n         Iterations: 19\n         Function evaluations: 38\nOptimization terminated successfully.\n         Current function value: 0.000000\n         Iterations: 18\n         Function evaluations: 36\nOptimization terminated successfully.\n         Current function value: 0.000000\n         Iterations: 17\n         Function evaluations: 34\nOptimization terminated successfully.\n         Current function value: 0.000000\n         Iterations: 18\n         Function evaluations: 36\nOptimization terminated successfully.\n         Current function value: 0.000000\n         Iterations: 17\n         Function evaluations: 34\nOptimization terminated successfully.\n         Current function value: 0.000000\n         Iterations: 18\n         Function evaluations: 36\nOptimization terminated successfully.\n         Current function value: 0.000000\n         Iterations: 19\n         Function evaluations: 38\nOptimization terminated successfully.\n         Current function value: 0.000000\n         Iterations: 20\n         Function evaluations: 40\nOptimization terminated successfully.\n         Current function value: 0.000000\n         Iterations: 19\n         Function evaluations: 38\nOptimization terminated successfully.\n         Current function value: 0.000000\n         Iterations: 20\n         Function evaluations: 40\nOptimization terminated successfully.\n         Current function value: 0.000000\n         Iterations: 21\n         Function evaluations: 42\nOptimization terminated successfully.\n         Current function value: 0.000000\n         Iterations: 21\n         Function evaluations: 42\n"
    }
   ],
   "source": [
    "s_star = np.zeros((4,4))\n",
    "#Find s* using a minimisation function\n",
    "i=0\n",
    "j=0\n",
    "for i in range(len(k)):\n",
    "    for j in range(len(tau)):\n",
    "        error = lambda X: (price_call(X, D, T, tau[j], r, sigma)-k[i])**2\n",
    "        s_star[i,j] = scipy.optimize.fmin(func=error,x0=S) "
   ]
  },
  {
   "cell_type": "code",
   "execution_count": 338,
   "metadata": {},
   "outputs": [
    {
     "output_type": "execute_result",
     "data": {
      "text/plain": "array([[ 71.07559204,  78.38737488,  84.766922  ,  92.25997925],\n       [ 87.69226074,  94.96421814, 101.03637695, 107.65327454],\n       [103.86741638, 111.05072021, 116.84333801, 122.85415649],\n       [119.76531982, 126.84074402, 132.38945007, 137.98118591]])"
     },
     "metadata": {},
     "execution_count": 338
    }
   ],
   "source": [
    "s_star"
   ]
  },
  {
   "cell_type": "code",
   "execution_count": 317,
   "metadata": {},
   "outputs": [],
   "source": [
    "tau=tau.to_numpy()"
   ]
  },
  {
   "cell_type": "code",
   "execution_count": 318,
   "metadata": {},
   "outputs": [],
   "source": [
    "a_1 = (np.log(S/s_star) + (r+(sigma**2)/2)*(tau -t))/(sigma*np.sqrt(tau-t))\n",
    "a_2 = a_1 - sigma*np.sqrt(tau-t)\n",
    "b_1 = (np.log(S/D) + (r+sigma**2/2)*(T - t))/(sigma*np.sqrt(T-t))\n",
    "b_2 = b_1 - sigma*np.sqrt(T-t)\n",
    "rho = np.sqrt((tau-t)/(T-t))\n",
    "mu= [0, 0]"
   ]
  },
  {
   "cell_type": "code",
   "execution_count": 320,
   "metadata": {},
   "outputs": [],
   "source": [
    "C = np.zeros((4,4))# %we compute the payoff for k = [0.60; 0.80; 1; 1.2]*payoff\n",
    "#tau=pd.Series(tu)\n",
    "i=0\n",
    "j=0\n",
    "for i in range(len(k)):\n",
    "    for j in range(len(tau)):\n",
    "        cov = [[1, rho[j]], [rho[j], 1]]\n",
    "        x=[a_1[i,j],b_1] \n",
    "        y=[a_2[i,j], b_2]\n",
    "        C[i,j] = S * mvn.cdf(x,mean=mu, cov=cov) - D * np.exp(-r*(T-t)) * mvn.cdf(y,mean=mu, cov=cov)- np.exp(-r*(tau[j]-t)) * k[i] * norm.cdf(a_2[i,j])\n",
    "    "
   ]
  },
  {
   "cell_type": "code",
   "execution_count": 321,
   "metadata": {},
   "outputs": [
    {
     "output_type": "execute_result",
     "data": {
      "text/plain": "array([[39.09216585, 49.53140729, 54.77978727, 59.27764682],\n       [30.64982974, 43.69253387, 50.00889411, 55.32253533],\n       [23.98228379, 38.75141817, 45.86230031, 51.80461377],\n       [18.77786021, 34.53438814, 42.22356557, 48.65239087]])"
     },
     "metadata": {},
     "execution_count": 321
    }
   ],
   "source": [
    "C ## Numerical values of the compound option rows different strikes column different maturities "
   ]
  },
  {
   "cell_type": "code",
   "execution_count": 348,
   "metadata": {
    "tags": []
   },
   "outputs": [
    {
     "output_type": "stream",
     "name": "stdout",
     "text": "Optimization terminated successfully.\n         Current function value: 0.000001\n         Iterations: 13\n         Function evaluations: 26\nOptimization terminated successfully.\n         Current function value: 0.000000\n         Iterations: 13\n         Function evaluations: 26\nOptimization terminated successfully.\n         Current function value: 0.000002\n         Iterations: 13\n         Function evaluations: 26\nOptimization terminated successfully.\n         Current function value: 0.000001\n         Iterations: 14\n         Function evaluations: 28\nOptimization terminated successfully.\n         Current function value: 0.000001\n         Iterations: 12\n         Function evaluations: 24\nOptimization terminated successfully.\n         Current function value: 0.000001\n         Iterations: 13\n         Function evaluations: 26\nOptimization terminated successfully.\n         Current function value: 0.000002\n         Iterations: 13\n         Function evaluations: 26\nOptimization terminated successfully.\n         Current function value: 0.000000\n         Iterations: 13\n         Function evaluations: 26\nOptimization terminated successfully.\n         Current function value: 0.000000\n         Iterations: 12\n         Function evaluations: 24\nOptimization terminated successfully.\n         Current function value: 0.000003\n         Iterations: 13\n         Function evaluations: 26\nOptimization terminated successfully.\n         Current function value: 0.000000\n         Iterations: 13\n         Function evaluations: 26\nOptimization terminated successfully.\n         Current function value: 0.000001\n         Iterations: 13\n         Function evaluations: 26\nOptimization terminated successfully.\n         Current function value: 0.000001\n         Iterations: 12\n         Function evaluations: 24\nOptimization terminated successfully.\n         Current function value: 0.000000\n         Iterations: 13\n         Function evaluations: 26\nOptimization terminated successfully.\n         Current function value: 0.000001\n         Iterations: 13\n         Function evaluations: 26\nOptimization terminated successfully.\n         Current function value: 0.000001\n         Iterations: 13\n         Function evaluations: 26\n"
    }
   ],
   "source": [
    "IV = np.zeros((4,4))\n",
    "i=0\n",
    "j=0\n",
    "for i in range(len(k)):\n",
    "    for j in range(len(tau)):\n",
    "        error2 = lambda X: (price_call(C0, k[i], tau[j], t, r, X)-C[i,j])**2\n",
    "        IV[i,j]= scipy.optimize.fmin(func=error2,x0=0.4) "
   ]
  },
  {
   "cell_type": "code",
   "execution_count": 349,
   "metadata": {},
   "outputs": [
    {
     "output_type": "execute_result",
     "data": {
      "text/plain": "array([[0.52804688, 0.55023438, 0.56992188, 0.5971875 ],\n       [0.51757813, 0.53742188, 0.5546875 , 0.57765625],\n       [0.50976563, 0.5278125 , 0.54328125, 0.563125  ],\n       [0.50359375, 0.52015625, 0.53421875, 0.55179688]])"
     },
     "metadata": {},
     "execution_count": 349
    }
   ],
   "source": [
    "IV"
   ]
  },
  {
   "cell_type": "code",
   "execution_count": 367,
   "metadata": {},
   "outputs": [],
   "source": [
    "x=np.tile(k,(1,4)).shape(4, 4)\n",
    "y = np.tile(tau,(1,4))"
   ]
  },
  {
   "cell_type": "code",
   "execution_count": 368,
   "metadata": {},
   "outputs": [
    {
     "output_type": "execute_result",
     "data": {
      "text/plain": "(1, 16)"
     },
     "metadata": {},
     "execution_count": 368
    }
   ],
   "source": [
    "x"
   ]
  },
  {
   "cell_type": "code",
   "execution_count": null,
   "metadata": {},
   "outputs": [],
   "source": []
  }
 ]
}