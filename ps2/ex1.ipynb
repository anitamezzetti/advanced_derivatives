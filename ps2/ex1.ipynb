{
 "metadata": {
  "language_info": {
   "codemirror_mode": {
    "name": "ipython",
    "version": 3
   },
   "file_extension": ".py",
   "mimetype": "text/x-python",
   "name": "python",
   "nbconvert_exporter": "python",
   "pygments_lexer": "ipython3",
   "version": "3.7.4-final"
  },
  "orig_nbformat": 2,
  "kernelspec": {
   "name": "python_defaultSpec_1600779569053",
   "display_name": "Python 3.7.4 64-bit ('base': conda)"
  }
 },
 "nbformat": 4,
 "nbformat_minor": 2,
 "cells": [
  {
   "cell_type": "code",
   "execution_count": 120,
   "metadata": {},
   "outputs": [],
   "source": [
    "import numpy as np\n",
    "import pandas as pd \n",
    "import matplotlib.pyplot as plt\n",
    "from scipy import stats\n",
    "import scipy.optimize"
   ]
  },
  {
   "cell_type": "code",
   "execution_count": 121,
   "metadata": {},
   "outputs": [],
   "source": [
    " \n",
    "T = 10\n",
    "r = 0.05\n",
    "sigma = 0.4\n",
    "S = 100\n",
    "K = 50\n",
    "t=0"
   ]
  },
  {
   "cell_type": "code",
   "execution_count": 122,
   "metadata": {},
   "outputs": [],
   "source": [
    "def price_call(S, K, T, t, r, sigma):\n",
    "    d1 = 1/(sigma*np.sqrt(T-t))*np.log(S*np.exp(r*(T-t))/K) + sigma*np.sqrt(T-t)/2\n",
    "    d2 = 1/(sigma*np.sqrt(T-t))*np.log(S*np.exp(r*(T-t))/K) - sigma*np.sqrt(T-t)/2\n",
    "    return S*stats.norm.cdf(d1) - np.exp(-r*(T-t))*K*stats.norm.cdf(d2)\n",
    "\n",
    "C0 = price_call(S, K, T, 0, r, sigma)\n"
   ]
  },
  {
   "cell_type": "code",
   "execution_count": 123,
   "metadata": {},
   "outputs": [],
   "source": [
    "C0 = price_call(S, K, T, 0, r, sigma) #current value of the firm’s equity"
   ]
  },
  {
   "cell_type": "code",
   "execution_count": 124,
   "metadata": {},
   "outputs": [],
   "source": [
    "## call on call"
   ]
  },
  {
   "cell_type": "code",
   "execution_count": 125,
   "metadata": {},
   "outputs": [],
   "source": [
    "k = [0.60, 0.80, 1, 1.2]\n",
    "k = pd.Series(k)*C0\n",
    "tu = [2,5,7,9]\n",
    "tau=pd.Series(tu)\n",
    "s_star = np.zeros((4,4))"
   ]
  },
  {
   "cell_type": "code",
   "execution_count": 126,
   "metadata": {
    "tags": []
   },
   "outputs": [
    {
     "output_type": "stream",
     "name": "stdout",
     "text": "Optimization terminated successfully.\n         Current function value: 0.000000\n         Iterations: 21\n         Function evaluations: 42\nOptimization terminated successfully.\n         Current function value: 0.000000\n         Iterations: 20\n         Function evaluations: 40\nOptimization terminated successfully.\n         Current function value: 0.000000\n         Iterations: 20\n         Function evaluations: 40\nOptimization terminated successfully.\n         Current function value: 0.000000\n         Iterations: 19\n         Function evaluations: 38\nOptimization terminated successfully.\n         Current function value: 0.000000\n         Iterations: 19\n         Function evaluations: 38\nOptimization terminated successfully.\n         Current function value: 0.000000\n         Iterations: 18\n         Function evaluations: 36\nOptimization terminated successfully.\n         Current function value: 0.000000\n         Iterations: 17\n         Function evaluations: 34\nOptimization terminated successfully.\n         Current function value: 0.000000\n         Iterations: 18\n         Function evaluations: 36\nOptimization terminated successfully.\n         Current function value: 0.000000\n         Iterations: 17\n         Function evaluations: 34\nOptimization terminated successfully.\n         Current function value: 0.000000\n         Iterations: 18\n         Function evaluations: 36\nOptimization terminated successfully.\n         Current function value: 0.000000\n         Iterations: 19\n         Function evaluations: 38\nOptimization terminated successfully.\n         Current function value: 0.000000\n         Iterations: 20\n         Function evaluations: 40\nOptimization terminated successfully.\n         Current function value: 0.000000\n         Iterations: 19\n         Function evaluations: 38\nOptimization terminated successfully.\n         Current function value: 0.000000\n         Iterations: 20\n         Function evaluations: 40\nOptimization terminated successfully.\n         Current function value: 0.000000\n         Iterations: 21\n         Function evaluations: 42\nOptimization terminated successfully.\n         Current function value: 0.000000\n         Iterations: 21\n         Function evaluations: 42\n"
    }
   ],
   "source": [
    "s_star = np.zeros((4,4))\n",
    "#Find s* using a minimisation function\n",
    "i=0\n",
    "j=0\n",
    "for i in range(len(k)):\n",
    "    for j in range(len(tau)):\n",
    "        error = lambda X: (price_call(X, K, T, tau[j], r, sigma)-k[i])**2\n",
    "        s_star[i,j] = scipy.optimize.fmin(func=error,x0=S) "
   ]
  },
  {
   "cell_type": "code",
   "execution_count": 127,
   "metadata": {},
   "outputs": [
    {
     "output_type": "execute_result",
     "data": {
      "text/plain": "array([[ 71.07559204,  78.38737488,  84.766922  ,  92.25997925],\n       [ 87.69226074,  94.96421814, 101.03637695, 107.65327454],\n       [103.86741638, 111.05072021, 116.84333801, 122.85415649],\n       [119.76531982, 126.84074402, 132.38945007, 137.98118591]])"
     },
     "metadata": {},
     "execution_count": 127
    }
   ],
   "source": [
    "s_star"
   ]
  },
  {
   "cell_type": "code",
   "execution_count": 145,
   "metadata": {},
   "outputs": [],
   "source": [
    "tau=tau.to_numpy()"
   ]
  },
  {
   "cell_type": "code",
   "execution_count": null,
   "metadata": {},
   "outputs": [],
   "source": [
    "a_1 = (np.log(V0/s_star).T + (r+(sigma**2)/2)*(tau -t))/(sigma*np.sqrt(tau-t))\n",
    "a_2 = a_1 - sigma*sqrt(tau-t)';\n",
    "b_1 = (log(V0/D) + (r+sigma^2/2)*(T - t))/(sigma*sqrt(T-t));\n",
    "b_2 = b_1 - sigma*sqrt(T-t);\n",
    "rho = sqrt((tau-t)/(T-t));\n",
    "mu = zeros(2,1);\n",
    "\n",
    "C = NaN(size(s_star)); %we compute the payoff for k = [0.60; 0.80; 1; 1.2]*payoff\n",
    "\n",
    "for i = 1:length(k)\n",
    "    for j = 1:length(tau)\n",
    "        cov = [1 rho(j);rho(j) 1];    \n",
    "        C(i,j) = V0 * mvncdf([a_1(i,j); b_1],mu,cov) - D * exp(-r*(T-t)) * mvncdf([a_2(i,j); b_2],mu,cov) - exp(-r*(tau(j)-t)) * k(i) * normcdf(a_2(i,j));\n",
    "    end\n",
    "end\n",
    "\n",
    "C"
   ]
  },
  {
   "cell_type": "code",
   "execution_count": 186,
   "metadata": {},
   "outputs": [
    {
     "output_type": "error",
     "ename": "LinAlgError",
     "evalue": "1-dimensional array given. Array must be two-dimensional",
     "traceback": [
      "\u001b[0;31m---------------------------------------------------------------------------\u001b[0m",
      "\u001b[0;31mLinAlgError\u001b[0m                               Traceback (most recent call last)",
      "\u001b[0;32m<ipython-input-186-89d3937f399a>\u001b[0m in \u001b[0;36m<module>\u001b[0;34m\u001b[0m\n\u001b[1;32m      6\u001b[0m \u001b[0mc\u001b[0m\u001b[0;34m=\u001b[0m\u001b[0mb\u001b[0m\u001b[0;34m.\u001b[0m\u001b[0mT\u001b[0m\u001b[0;34m+\u001b[0m\u001b[0ma\u001b[0m\u001b[0;34m\u001b[0m\u001b[0;34m\u001b[0m\u001b[0m\n\u001b[1;32m      7\u001b[0m \u001b[0mc\u001b[0m\u001b[0;34m=\u001b[0m\u001b[0mc\u001b[0m\u001b[0;34m.\u001b[0m\u001b[0mT\u001b[0m\u001b[0;34m\u001b[0m\u001b[0;34m\u001b[0m\u001b[0m\n\u001b[0;32m----> 8\u001b[0;31m \u001b[0mnp\u001b[0m\u001b[0;34m.\u001b[0m\u001b[0mlinalg\u001b[0m\u001b[0;34m.\u001b[0m\u001b[0mlstsq\u001b[0m\u001b[0;34m(\u001b[0m\u001b[0md\u001b[0m\u001b[0;34m.\u001b[0m\u001b[0mT\u001b[0m\u001b[0;34m,\u001b[0m \u001b[0mc\u001b[0m\u001b[0;34m.\u001b[0m\u001b[0mT\u001b[0m\u001b[0;34m)\u001b[0m\u001b[0;34m\u001b[0m\u001b[0;34m\u001b[0m\u001b[0m\n\u001b[0m",
      "\u001b[0;32m<__array_function__ internals>\u001b[0m in \u001b[0;36mlstsq\u001b[0;34m(*args, **kwargs)\u001b[0m\n",
      "\u001b[0;32m/opt/anaconda3/lib/python3.7/site-packages/numpy/linalg/linalg.py\u001b[0m in \u001b[0;36mlstsq\u001b[0;34m(a, b, rcond)\u001b[0m\n\u001b[1;32m   2231\u001b[0m     \u001b[0;32mif\u001b[0m \u001b[0mis_1d\u001b[0m\u001b[0;34m:\u001b[0m\u001b[0;34m\u001b[0m\u001b[0;34m\u001b[0m\u001b[0m\n\u001b[1;32m   2232\u001b[0m         \u001b[0mb\u001b[0m \u001b[0;34m=\u001b[0m \u001b[0mb\u001b[0m\u001b[0;34m[\u001b[0m\u001b[0;34m:\u001b[0m\u001b[0;34m,\u001b[0m \u001b[0mnewaxis\u001b[0m\u001b[0;34m]\u001b[0m\u001b[0;34m\u001b[0m\u001b[0;34m\u001b[0m\u001b[0m\n\u001b[0;32m-> 2233\u001b[0;31m     \u001b[0m_assertRank2\u001b[0m\u001b[0;34m(\u001b[0m\u001b[0ma\u001b[0m\u001b[0;34m,\u001b[0m \u001b[0mb\u001b[0m\u001b[0;34m)\u001b[0m\u001b[0;34m\u001b[0m\u001b[0;34m\u001b[0m\u001b[0m\n\u001b[0m\u001b[1;32m   2234\u001b[0m     \u001b[0mm\u001b[0m\u001b[0;34m,\u001b[0m \u001b[0mn\u001b[0m \u001b[0;34m=\u001b[0m \u001b[0ma\u001b[0m\u001b[0;34m.\u001b[0m\u001b[0mshape\u001b[0m\u001b[0;34m[\u001b[0m\u001b[0;34m-\u001b[0m\u001b[0;36m2\u001b[0m\u001b[0;34m:\u001b[0m\u001b[0;34m]\u001b[0m\u001b[0;34m\u001b[0m\u001b[0;34m\u001b[0m\u001b[0m\n\u001b[1;32m   2235\u001b[0m     \u001b[0mm2\u001b[0m\u001b[0;34m,\u001b[0m \u001b[0mn_rhs\u001b[0m \u001b[0;34m=\u001b[0m \u001b[0mb\u001b[0m\u001b[0;34m.\u001b[0m\u001b[0mshape\u001b[0m\u001b[0;34m[\u001b[0m\u001b[0;34m-\u001b[0m\u001b[0;36m2\u001b[0m\u001b[0;34m:\u001b[0m\u001b[0;34m]\u001b[0m\u001b[0;34m\u001b[0m\u001b[0;34m\u001b[0m\u001b[0m\n",
      "\u001b[0;32m/opt/anaconda3/lib/python3.7/site-packages/numpy/linalg/linalg.py\u001b[0m in \u001b[0;36m_assertRank2\u001b[0;34m(*arrays)\u001b[0m\n\u001b[1;32m    199\u001b[0m         \u001b[0;32mif\u001b[0m \u001b[0ma\u001b[0m\u001b[0;34m.\u001b[0m\u001b[0mndim\u001b[0m \u001b[0;34m!=\u001b[0m \u001b[0;36m2\u001b[0m\u001b[0;34m:\u001b[0m\u001b[0;34m\u001b[0m\u001b[0;34m\u001b[0m\u001b[0m\n\u001b[1;32m    200\u001b[0m             raise LinAlgError('%d-dimensional array given. Array must be '\n\u001b[0;32m--> 201\u001b[0;31m                     'two-dimensional' % a.ndim)\n\u001b[0m\u001b[1;32m    202\u001b[0m \u001b[0;34m\u001b[0m\u001b[0m\n\u001b[1;32m    203\u001b[0m \u001b[0;32mdef\u001b[0m \u001b[0m_assertRankAtLeast2\u001b[0m\u001b[0;34m(\u001b[0m\u001b[0;34m*\u001b[0m\u001b[0marrays\u001b[0m\u001b[0;34m)\u001b[0m\u001b[0;34m:\u001b[0m\u001b[0;34m\u001b[0m\u001b[0;34m\u001b[0m\u001b[0m\n",
      "\u001b[0;31mLinAlgError\u001b[0m: 1-dimensional array given. Array must be two-dimensional"
     ]
    }
   ],
   "source": [
    "a= (r+(sigma**2)/2)*(tau)\n",
    "b=np.log(V0/s_star)\n",
    "d=(sigma*np.sqrt(tau-t))\n",
    "#a.add(b, fill_value=0)\n",
    "#a=a.to_numpy()\n",
    "c=b.T+a\n",
    "c=c.T\n",
    " "
   ]
  },
  {
   "cell_type": "code",
   "execution_count": 182,
   "metadata": {},
   "outputs": [
    {
     "output_type": "execute_result",
     "data": {
      "text/plain": "array([[0.6014262 , 0.50350731, 0.42526479, 0.34055973],\n       [0.78133654, 0.70167002, 0.63968957, 0.57625454],\n       [0.87205494, 0.80518315, 0.75433614, 0.70417225],\n       [0.98963603, 0.93223787, 0.88942223, 0.84805284]])"
     },
     "metadata": {},
     "execution_count": 182
    }
   ],
   "source": [
    "c"
   ]
  },
  {
   "cell_type": "code",
   "execution_count": null,
   "metadata": {},
   "outputs": [],
   "source": []
  }
 ]
}