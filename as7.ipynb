{
 "metadata": {
  "language_info": {
   "codemirror_mode": {
    "name": "ipython",
    "version": 3
   },
   "file_extension": ".py",
   "mimetype": "text/x-python",
   "name": "python",
   "nbconvert_exporter": "python",
   "pygments_lexer": "ipython3",
   "version": "3.7.4-final"
  },
  "orig_nbformat": 2,
  "kernelspec": {
   "name": "python3",
   "display_name": "Python 3"
  }
 },
 "nbformat": 4,
 "nbformat_minor": 2,
 "cells": [
  {
   "cell_type": "code",
   "execution_count": 2,
   "metadata": {},
   "outputs": [],
   "source": [
    "import math\n",
    "import numpy as np\n",
    "import pandas as pd\n",
    "import datetime as dt\n",
    "import scipy.stats as si"
   ]
  },
  {
   "cell_type": "code",
   "execution_count": 39,
   "metadata": {},
   "outputs": [],
   "source": [
    "S0 = 100\n",
    "K = 98\n",
    "T = [0,0.25,0.5,0.75,1]\n",
    "dt = 0.25\n",
    "r = 0\n",
    "delta = 0.02\n",
    "#q1 sigma cst = 23%\n",
    "sigma = 0.23\n",
    "mcpath = 1000\n",
    "n = len(T)\n",
    "#matrix N*5\n",
    "np.random.seed( 420 ) "
   ]
  },
  {
   "cell_type": "code",
   "execution_count": 40,
   "metadata": {},
   "outputs": [],
   "source": [
    "vol = 0.23\n",
    "var = vol ** 2\n",
    "dailyVol = np.sqrt( var / dt )\n",
    "time=1\n",
    "dt=0.25\n",
    "inter = time * dt"
   ]
  },
  {
   "cell_type": "code",
   "execution_count": 41,
   "metadata": {},
   "outputs": [],
   "source": [
    "S = np.zeros((mcpath,n))"
   ]
  },
  {
   "cell_type": "code",
   "execution_count": 42,
   "metadata": {},
   "outputs": [],
   "source": [
    "for i in range(0,mcpath):\n",
    "    t = 0 \n",
    "    W = 0 \n",
    "    C=np.ones(5)\n",
    "    for j in range(0,n):\n",
    "        if j==0:\n",
    "            C[j]=100\n",
    "        else:\n",
    "            W = np.random.normal(0,np.sqrt(dt))\n",
    "            C[j]=np.exp((r-delta-0.5*sigma**2)*dt+sigma*W)\n",
    "        S[i,j] = np.prod(C)"
   ]
  },
  {
   "cell_type": "code",
   "execution_count": 43,
   "metadata": {},
   "outputs": [],
   "source": [
    "# Compute A for t1 t2 t3 t3\n",
    "A = np.zeros((mcpath,n-1))\n",
    "A[:,0] = S[:,1]\n",
    "A[:,1] = (S[:,1] + S[:,2])/2\n",
    "A[:,2] = (S[:,1] + S[:,2] + S[:,3])/3\n",
    "A[:,3] = (S[:,1] + S[:,2] + S[:,3] + S[:,4])/4"
   ]
  },
  {
   "cell_type": "code",
   "execution_count": 44,
   "metadata": {},
   "outputs": [],
   "source": [
    "#def function to do the intrinsic value\n",
    "def intr(a):\n",
    "    res = np.array([])\n",
    "    for k in range(0,len(a)):\n",
    "        if a[k] > 0:\n",
    "            res = np.append(res,a[k])\n",
    "        else:\n",
    "            res = np.append(res,0)\n",
    "    return res"
   ]
  },
  {
   "cell_type": "code",
   "execution_count": 46,
   "metadata": {},
   "outputs": [],
   "source": [
    "C = np.zeros((mcpath,n))\n",
    "C[:,n-1] = intr(S[:,n-1]-K)\n",
    "for i in range(1,n):\n",
    "    X = np.array([np.ones(mcpath),S[:,n-1-i],S[:,n-1-i]**2,S[:,n-1-i]**3,A[:,n-1-i],A[:,n-1-i]**2,A[:,n-1-i]**3]).T\n",
    "    Y = np.sum(C,axis = 1) \n",
    "    beta = np.dot(np.linalg.inv(np.dot(X.T,X)),np.dot(X.T,Y))\n",
    "    Y_reg = np.dot(X,beta)\n",
    "    stop = intr(S[:,n-1-i]-K) > Y_reg\n",
    "    C[:,n-1-i] = intr(S[:,n-1-i]-K)*stop\n",
    "    for j in range(0,mcpath):\n",
    "        if (stop[j] == True):  \n",
    "            if (C[j,n-i-1] > (C[j,n-i])) and (stop[j] == True):\n",
    "                C[j,n-i:n] = 0\n"
   ]
  },
  {
   "cell_type": "code",
   "execution_count": 47,
   "metadata": {},
   "outputs": [
    {
     "output_type": "execute_result",
     "data": {
      "text/plain": [
       "       0         1          2          3          4\n",
       "0    0.0   0.00000   0.000000   0.000000   0.000000\n",
       "1    0.0   0.00000  15.058820   0.000000   0.000000\n",
       "2    0.0   0.00000  39.863161   0.000000   0.000000\n",
       "3    0.0   0.00000   0.000000   0.000000   0.000000\n",
       "4    0.0   0.00000   0.000000   0.000000  11.674056\n",
       "..   ...       ...        ...        ...        ...\n",
       "995  0.0   0.00000   0.000000  36.257348   0.000000\n",
       "996  0.0   0.00000   0.000000   0.000000   0.000000\n",
       "997  0.0   0.00000   0.000000  30.627580   0.000000\n",
       "998  0.0  12.77337   0.000000   0.000000   0.000000\n",
       "999  0.0   0.00000   0.000000  32.812602   0.000000\n",
       "\n",
       "[1000 rows x 5 columns]"
      ],
      "text/html": "<div>\n<style scoped>\n    .dataframe tbody tr th:only-of-type {\n        vertical-align: middle;\n    }\n\n    .dataframe tbody tr th {\n        vertical-align: top;\n    }\n\n    .dataframe thead th {\n        text-align: right;\n    }\n</style>\n<table border=\"1\" class=\"dataframe\">\n  <thead>\n    <tr style=\"text-align: right;\">\n      <th></th>\n      <th>0</th>\n      <th>1</th>\n      <th>2</th>\n      <th>3</th>\n      <th>4</th>\n    </tr>\n  </thead>\n  <tbody>\n    <tr>\n      <td>0</td>\n      <td>0.0</td>\n      <td>0.00000</td>\n      <td>0.000000</td>\n      <td>0.000000</td>\n      <td>0.000000</td>\n    </tr>\n    <tr>\n      <td>1</td>\n      <td>0.0</td>\n      <td>0.00000</td>\n      <td>15.058820</td>\n      <td>0.000000</td>\n      <td>0.000000</td>\n    </tr>\n    <tr>\n      <td>2</td>\n      <td>0.0</td>\n      <td>0.00000</td>\n      <td>39.863161</td>\n      <td>0.000000</td>\n      <td>0.000000</td>\n    </tr>\n    <tr>\n      <td>3</td>\n      <td>0.0</td>\n      <td>0.00000</td>\n      <td>0.000000</td>\n      <td>0.000000</td>\n      <td>0.000000</td>\n    </tr>\n    <tr>\n      <td>4</td>\n      <td>0.0</td>\n      <td>0.00000</td>\n      <td>0.000000</td>\n      <td>0.000000</td>\n      <td>11.674056</td>\n    </tr>\n    <tr>\n      <td>...</td>\n      <td>...</td>\n      <td>...</td>\n      <td>...</td>\n      <td>...</td>\n      <td>...</td>\n    </tr>\n    <tr>\n      <td>995</td>\n      <td>0.0</td>\n      <td>0.00000</td>\n      <td>0.000000</td>\n      <td>36.257348</td>\n      <td>0.000000</td>\n    </tr>\n    <tr>\n      <td>996</td>\n      <td>0.0</td>\n      <td>0.00000</td>\n      <td>0.000000</td>\n      <td>0.000000</td>\n      <td>0.000000</td>\n    </tr>\n    <tr>\n      <td>997</td>\n      <td>0.0</td>\n      <td>0.00000</td>\n      <td>0.000000</td>\n      <td>30.627580</td>\n      <td>0.000000</td>\n    </tr>\n    <tr>\n      <td>998</td>\n      <td>0.0</td>\n      <td>12.77337</td>\n      <td>0.000000</td>\n      <td>0.000000</td>\n      <td>0.000000</td>\n    </tr>\n    <tr>\n      <td>999</td>\n      <td>0.0</td>\n      <td>0.00000</td>\n      <td>0.000000</td>\n      <td>32.812602</td>\n      <td>0.000000</td>\n    </tr>\n  </tbody>\n</table>\n<p>1000 rows × 5 columns</p>\n</div>"
     },
     "metadata": {},
     "execution_count": 47
    }
   ],
   "source": [
    "pd.DataFrame(C) "
   ]
  },
  {
   "cell_type": "code",
   "execution_count": 50,
   "metadata": {},
   "outputs": [
    {
     "output_type": "execute_result",
     "data": {
      "text/plain": [
       "13.627884653033096"
      ]
     },
     "metadata": {},
     "execution_count": 50
    }
   ],
   "source": [
    "price = sum(sum(C))/mcpath\n",
    "price"
   ]
  },
  {
   "cell_type": "code",
   "execution_count": 111,
   "metadata": {},
   "outputs": [],
   "source": [
    "def bs(S, K, T, r, q, sigma):\n",
    "    \n",
    "    d1 = (np.log(S / K) + (r - q + 0.5 * sigma ** 2) * T) / (sigma * np.sqrt(T))\n",
    "    d2 = (np.log(S / K) + (r - q - 0.5 * sigma ** 2) * T) / (sigma * np.sqrt(T))\n",
    "    \n",
    "    call = (S * np.exp(-q * T) * si.norm.cdf(d1, 0.0, 1.0) - K * np.exp(-r * T) * si.norm.cdf(d2, 0.0, 1.0))\n",
    "    \n",
    "    return call"
   ]
  },
  {
   "cell_type": "code",
   "execution_count": 112,
   "metadata": {},
   "outputs": [
    {
     "output_type": "execute_result",
     "data": {
      "text/plain": [
       "8.983224650185882"
      ]
     },
     "metadata": {},
     "execution_count": 112
    }
   ],
   "source": [
    "bs(S0, K, 1,r,delta, sigma)"
   ]
  },
  {
   "source": [
    "## point b"
   ],
   "cell_type": "markdown",
   "metadata": {}
  },
  {
   "cell_type": "code",
   "execution_count": 61,
   "metadata": {},
   "outputs": [],
   "source": [
    "ind= pd.read_csv('/Users/francescomaizza/Documents/GitHub/advanced_derivatives/problem_set_7/strikes.csv',names=['s'])/2772.70"
   ]
  },
  {
   "cell_type": "code",
   "execution_count": 62,
   "metadata": {},
   "outputs": [],
   "source": [
    "mat=pd.read_csv('problem_set_7/maturities.csv')"
   ]
  },
  {
   "cell_type": "code",
   "execution_count": 63,
   "metadata": {},
   "outputs": [],
   "source": [
    "v=list(mat.columns)"
   ]
  },
  {
   "cell_type": "code",
   "execution_count": 64,
   "metadata": {},
   "outputs": [],
   "source": [
    "vol= pd.read_csv('/Users/francescomaizza/Documents/GitHub/advanced_derivatives/problem_set_7/impv_total.csv',names=v)\n",
    "vol.index=ind['s']"
   ]
  },
  {
   "cell_type": "code",
   "execution_count": 65,
   "metadata": {},
   "outputs": [
    {
     "output_type": "execute_result",
     "data": {
      "text/plain": [
       "             0.025         0.101         0.197         0.274         0.523  \\\n",
       "s                                                                            \n",
       "0.40  8.287686e-01  8.170852e-17  3.853516e-16  3.120542e-16  5.890001e-16   \n",
       "0.41  9.399773e-01  6.161537e-01  5.158837e-01  4.910442e-01  4.100280e-01   \n",
       "0.42  9.329367e-01  6.189532e-01  5.233756e-01  5.027064e-01  4.255322e-01   \n",
       "0.43  9.200532e-01  6.148949e-01  5.232228e-01  5.055190e-01  4.318259e-01   \n",
       "0.44  9.053031e-01  6.082117e-01  5.199562e-01  5.045818e-01  4.340538e-01   \n",
       "...            ...           ...           ...           ...           ...   \n",
       "1.96  5.418673e-01  2.746558e-01  2.364537e-01  2.094809e-01  1.845412e-01   \n",
       "1.97  4.206551e-16  2.798652e-01  2.362566e-01  2.091682e-01  1.837777e-01   \n",
       "1.98  5.520387e-01  2.815722e-01  2.355584e-01  2.083782e-01  1.823776e-01   \n",
       "1.99  4.206551e-16  3.062741e-16  2.335525e-01  2.063393e-01  1.794156e-01   \n",
       "2.00  4.206551e-16  3.791151e-16  3.658727e-16  1.741579e-01  1.228963e-01   \n",
       "\n",
       "         0.772         1           1.5     1.769  \n",
       "s                                                 \n",
       "0.40  0.157089  0.140222  3.284022e-16  0.102220  \n",
       "0.41  0.368878  0.343337  3.058936e-01  0.289128  \n",
       "0.42  0.386681  0.362494  3.268166e-01  0.310087  \n",
       "0.43  0.395100  0.372230  3.383986e-01  0.321951  \n",
       "0.44  0.399283  0.377658  3.456183e-01  0.329547  \n",
       "...        ...       ...           ...       ...  \n",
       "1.96  0.168413  0.157601  1.569358e-01  0.165017  \n",
       "1.97  0.167374  0.156402  1.549458e-01  0.162194  \n",
       "1.98  0.165643  0.154487  1.519794e-01  0.158148  \n",
       "1.99  0.162240  0.150859  1.467684e-01  0.151345  \n",
       "2.00  0.105183  0.091209  7.523154e-02  0.069214  \n",
       "\n",
       "[161 rows x 9 columns]"
      ],
      "text/html": "<div>\n<style scoped>\n    .dataframe tbody tr th:only-of-type {\n        vertical-align: middle;\n    }\n\n    .dataframe tbody tr th {\n        vertical-align: top;\n    }\n\n    .dataframe thead th {\n        text-align: right;\n    }\n</style>\n<table border=\"1\" class=\"dataframe\">\n  <thead>\n    <tr style=\"text-align: right;\">\n      <th></th>\n      <th>0.025</th>\n      <th>0.101</th>\n      <th>0.197</th>\n      <th>0.274</th>\n      <th>0.523</th>\n      <th>0.772</th>\n      <th>1</th>\n      <th>1.5</th>\n      <th>1.769</th>\n    </tr>\n    <tr>\n      <th>s</th>\n      <th></th>\n      <th></th>\n      <th></th>\n      <th></th>\n      <th></th>\n      <th></th>\n      <th></th>\n      <th></th>\n      <th></th>\n    </tr>\n  </thead>\n  <tbody>\n    <tr>\n      <td>0.40</td>\n      <td>8.287686e-01</td>\n      <td>8.170852e-17</td>\n      <td>3.853516e-16</td>\n      <td>3.120542e-16</td>\n      <td>5.890001e-16</td>\n      <td>0.157089</td>\n      <td>0.140222</td>\n      <td>3.284022e-16</td>\n      <td>0.102220</td>\n    </tr>\n    <tr>\n      <td>0.41</td>\n      <td>9.399773e-01</td>\n      <td>6.161537e-01</td>\n      <td>5.158837e-01</td>\n      <td>4.910442e-01</td>\n      <td>4.100280e-01</td>\n      <td>0.368878</td>\n      <td>0.343337</td>\n      <td>3.058936e-01</td>\n      <td>0.289128</td>\n    </tr>\n    <tr>\n      <td>0.42</td>\n      <td>9.329367e-01</td>\n      <td>6.189532e-01</td>\n      <td>5.233756e-01</td>\n      <td>5.027064e-01</td>\n      <td>4.255322e-01</td>\n      <td>0.386681</td>\n      <td>0.362494</td>\n      <td>3.268166e-01</td>\n      <td>0.310087</td>\n    </tr>\n    <tr>\n      <td>0.43</td>\n      <td>9.200532e-01</td>\n      <td>6.148949e-01</td>\n      <td>5.232228e-01</td>\n      <td>5.055190e-01</td>\n      <td>4.318259e-01</td>\n      <td>0.395100</td>\n      <td>0.372230</td>\n      <td>3.383986e-01</td>\n      <td>0.321951</td>\n    </tr>\n    <tr>\n      <td>0.44</td>\n      <td>9.053031e-01</td>\n      <td>6.082117e-01</td>\n      <td>5.199562e-01</td>\n      <td>5.045818e-01</td>\n      <td>4.340538e-01</td>\n      <td>0.399283</td>\n      <td>0.377658</td>\n      <td>3.456183e-01</td>\n      <td>0.329547</td>\n    </tr>\n    <tr>\n      <td>...</td>\n      <td>...</td>\n      <td>...</td>\n      <td>...</td>\n      <td>...</td>\n      <td>...</td>\n      <td>...</td>\n      <td>...</td>\n      <td>...</td>\n      <td>...</td>\n    </tr>\n    <tr>\n      <td>1.96</td>\n      <td>5.418673e-01</td>\n      <td>2.746558e-01</td>\n      <td>2.364537e-01</td>\n      <td>2.094809e-01</td>\n      <td>1.845412e-01</td>\n      <td>0.168413</td>\n      <td>0.157601</td>\n      <td>1.569358e-01</td>\n      <td>0.165017</td>\n    </tr>\n    <tr>\n      <td>1.97</td>\n      <td>4.206551e-16</td>\n      <td>2.798652e-01</td>\n      <td>2.362566e-01</td>\n      <td>2.091682e-01</td>\n      <td>1.837777e-01</td>\n      <td>0.167374</td>\n      <td>0.156402</td>\n      <td>1.549458e-01</td>\n      <td>0.162194</td>\n    </tr>\n    <tr>\n      <td>1.98</td>\n      <td>5.520387e-01</td>\n      <td>2.815722e-01</td>\n      <td>2.355584e-01</td>\n      <td>2.083782e-01</td>\n      <td>1.823776e-01</td>\n      <td>0.165643</td>\n      <td>0.154487</td>\n      <td>1.519794e-01</td>\n      <td>0.158148</td>\n    </tr>\n    <tr>\n      <td>1.99</td>\n      <td>4.206551e-16</td>\n      <td>3.062741e-16</td>\n      <td>2.335525e-01</td>\n      <td>2.063393e-01</td>\n      <td>1.794156e-01</td>\n      <td>0.162240</td>\n      <td>0.150859</td>\n      <td>1.467684e-01</td>\n      <td>0.151345</td>\n    </tr>\n    <tr>\n      <td>2.00</td>\n      <td>4.206551e-16</td>\n      <td>3.791151e-16</td>\n      <td>3.658727e-16</td>\n      <td>1.741579e-01</td>\n      <td>1.228963e-01</td>\n      <td>0.105183</td>\n      <td>0.091209</td>\n      <td>7.523154e-02</td>\n      <td>0.069214</td>\n    </tr>\n  </tbody>\n</table>\n<p>161 rows × 9 columns</p>\n</div>"
     },
     "metadata": {},
     "execution_count": 65
    }
   ],
   "source": [
    "vol"
   ]
  },
  {
   "cell_type": "code",
   "execution_count": null,
   "metadata": {},
   "outputs": [],
   "source": []
  }
 ]
}