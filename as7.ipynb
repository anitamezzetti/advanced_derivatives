{
 "metadata": {
  "language_info": {
   "codemirror_mode": {
    "name": "ipython",
    "version": 3
   },
   "file_extension": ".py",
   "mimetype": "text/x-python",
   "name": "python",
   "nbconvert_exporter": "python",
   "pygments_lexer": "ipython3",
   "version": "3.7.4-final"
  },
  "orig_nbformat": 2,
  "kernelspec": {
   "name": "python3",
   "display_name": "Python 3"
  }
 },
 "nbformat": 4,
 "nbformat_minor": 2,
 "cells": [
  {
   "cell_type": "code",
   "execution_count": 2,
   "metadata": {},
   "outputs": [],
   "source": [
    "import math\n",
    "import numpy as np\n",
    "import pandas as pd\n",
    "import datetime as dt"
   ]
  },
  {
   "cell_type": "code",
   "execution_count": 26,
   "metadata": {},
   "outputs": [],
   "source": [
    "S0 = 100\n",
    "K = 98\n",
    "T = [0,0.25,0.5,0.75,1]\n",
    "dt = 0.25\n",
    "r = 0\n",
    "delta = 0.02\n",
    "#q1 sigma cst = 23%\n",
    "sigma = 0.23\n",
    "mcpath = 1000\n",
    "n = len(T)\n",
    "#matrix N*5\n"
   ]
  },
  {
   "cell_type": "code",
   "execution_count": 82,
   "metadata": {},
   "outputs": [],
   "source": [
    "vol = 0.23\n",
    "var = vol ** 2\n",
    "dailyVol = np.sqrt( var / dt )\n",
    "time=1\n",
    "dt=0.25\n",
    "inter = time * dt"
   ]
  },
  {
   "cell_type": "code",
   "execution_count": 138,
   "metadata": {},
   "outputs": [],
   "source": [
    "S = np.zeros((mcpath,n))"
   ]
  },
  {
   "cell_type": "code",
   "execution_count": 142,
   "metadata": {},
   "outputs": [],
   "source": [
    "for i in range(0,mcpath):\n",
    "    t = 0 \n",
    "    W = 0 \n",
    "    C=np.ones(5)\n",
    "    for j in range(0,n):\n",
    "        if j==0:\n",
    "            C[j]=100\n",
    "        else:\n",
    "            W = np.random.normal(0,np.sqrt(dt))\n",
    "            C[j]=np.exp((r-0.5*sigma**2)*dt+sigma*W)\n",
    "        S[i,j] = np.prod(C)"
   ]
  },
  {
   "cell_type": "code",
   "execution_count": null,
   "metadata": {},
   "outputs": [],
   "source": []
  }
 ]
}