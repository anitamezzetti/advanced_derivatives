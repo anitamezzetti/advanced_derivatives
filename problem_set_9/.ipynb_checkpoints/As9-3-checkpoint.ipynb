{
 "cells": [
  {
   "cell_type": "code",
   "execution_count": 2,
   "metadata": {},
   "outputs": [],
   "source": [
    "import numpy as np\n",
    "import matplotlib.pyplot as plt"
   ]
  },
  {
   "cell_type": "code",
   "execution_count": 1,
   "metadata": {},
   "outputs": [],
   "source": [
    "K = 0.805 # strike\n",
    "k = 0.15 # kappa\n",
    "sigma_r = 0.01\n",
    "theta = 0.05\n",
    "r0 = 0.042\n",
    "\n",
    "r_min =0\n",
    "r_max = 1e8\n",
    "\n",
    "T1 = 3/12 # 3 months\n",
    "T2 = 5 + 3/12 # 5 years 3 months"
   ]
  },
  {
   "cell_type": "code",
   "execution_count": 10,
   "metadata": {},
   "outputs": [],
   "source": [
    "r_interval = np.arange(100,1000,5)\n",
    "drs = 1/r_interval\n",
    "\n",
    "dt = 1e-4\n",
    "t_interval = np.arange(0, T1, dt)"
   ]
  },
  {
   "cell_type": "code",
   "execution_count": null,
   "metadata": {},
   "outputs": [],
   "source": []
  }
 ],
 "metadata": {
  "kernelspec": {
   "display_name": "Python 3",
   "language": "python",
   "name": "python3"
  },
  "language_info": {
   "codemirror_mode": {
    "name": "ipython",
    "version": 3
   },
   "file_extension": ".py",
   "mimetype": "text/x-python",
   "name": "python",
   "nbconvert_exporter": "python",
   "pygments_lexer": "ipython3",
   "version": "3.6.6"
  }
 },
 "nbformat": 4,
 "nbformat_minor": 2
}
