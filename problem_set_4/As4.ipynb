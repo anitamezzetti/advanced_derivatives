{
 "cells": [
  {
   "cell_type": "code",
   "execution_count": 26,
   "metadata": {},
   "outputs": [],
   "source": [
    "import numpy as np\n",
    "import pandas as pd\n",
    "import matplotlib.pyplot as plt\n",
    "from scipy import stats\n",
    "from scipy import interpolate"
   ]
  },
  {
   "cell_type": "markdown",
   "metadata": {},
   "source": [
    "\\begin{align*}\n",
    "    S_0^{SPX} &= 2921 \\\\\n",
    "    S_0^{AMZN} &= 1971 \\\\\n",
    "    \\delta^{SPX} &= 1.8\\% \\\\\n",
    "    \\delta^{AMZN} &= 1.9\\% \\\\\n",
    "    r &= 2.4\\% \\\\\n",
    "    T & = 0.296\n",
    "\\end{align*}"
   ]
  },
  {
   "cell_type": "code",
   "execution_count": 27,
   "metadata": {},
   "outputs": [],
   "source": [
    "S0_1 = 2921 #SPX\n",
    "S0_2 = 1971 #AMZN\n",
    "delta_1 = 0.018\n",
    "delta_2 = 0.019\n",
    "r = 0.024\n",
    "T = 0.296\n",
    "rho = 0.5 # for monte-carlo\n",
    "num_sim = 10000 # number of simulations"
   ]
  },
  {
   "cell_type": "code",
   "execution_count": 28,
   "metadata": {},
   "outputs": [
    {
     "data": {
      "text/html": [
       "<div>\n",
       "<style scoped>\n",
       "    .dataframe tbody tr th:only-of-type {\n",
       "        vertical-align: middle;\n",
       "    }\n",
       "\n",
       "    .dataframe tbody tr th {\n",
       "        vertical-align: top;\n",
       "    }\n",
       "\n",
       "    .dataframe thead th {\n",
       "        text-align: right;\n",
       "    }\n",
       "</style>\n",
       "<table border=\"1\" class=\"dataframe\">\n",
       "  <thead>\n",
       "    <tr style=\"text-align: right;\">\n",
       "      <th></th>\n",
       "      <th>spx_strikes</th>\n",
       "      <th>spx_implied_vols</th>\n",
       "      <th>amzn_strikes</th>\n",
       "      <th>amzn_implied_vols</th>\n",
       "    </tr>\n",
       "  </thead>\n",
       "  <tbody>\n",
       "    <tr>\n",
       "      <th>0</th>\n",
       "      <td>1500.0</td>\n",
       "      <td>0.460000</td>\n",
       "      <td>700.0</td>\n",
       "      <td>0.610300</td>\n",
       "    </tr>\n",
       "    <tr>\n",
       "      <th>1</th>\n",
       "      <td>1525.0</td>\n",
       "      <td>0.451075</td>\n",
       "      <td>710.0</td>\n",
       "      <td>0.603335</td>\n",
       "    </tr>\n",
       "    <tr>\n",
       "      <th>2</th>\n",
       "      <td>1550.0</td>\n",
       "      <td>0.443954</td>\n",
       "      <td>720.0</td>\n",
       "      <td>0.596944</td>\n",
       "    </tr>\n",
       "    <tr>\n",
       "      <th>3</th>\n",
       "      <td>1575.0</td>\n",
       "      <td>0.437649</td>\n",
       "      <td>730.0</td>\n",
       "      <td>0.591072</td>\n",
       "    </tr>\n",
       "    <tr>\n",
       "      <th>4</th>\n",
       "      <td>1600.0</td>\n",
       "      <td>0.431531</td>\n",
       "      <td>740.0</td>\n",
       "      <td>0.585658</td>\n",
       "    </tr>\n",
       "  </tbody>\n",
       "</table>\n",
       "</div>"
      ],
      "text/plain": [
       "   spx_strikes  spx_implied_vols  amzn_strikes  amzn_implied_vols\n",
       "0       1500.0          0.460000         700.0           0.610300\n",
       "1       1525.0          0.451075         710.0           0.603335\n",
       "2       1550.0          0.443954         720.0           0.596944\n",
       "3       1575.0          0.437649         730.0           0.591072\n",
       "4       1600.0          0.431531         740.0           0.585658"
      ]
     },
     "execution_count": 28,
     "metadata": {},
     "output_type": "execute_result"
    }
   ],
   "source": [
    "data = pd.read_excel(\"Impvols_SPX_AMZN.xlsx\", usecols=[0,1,4,5], header=1).drop(0).reset_index(drop=True).\\\n",
    "            rename(axis=1,mapper={\"amzn implied vols\": \"amzn_implied_vols\",\n",
    "                                 \"spx implied vols\": \"spx_implied_vols\"})\n",
    "data.head()"
   ]
  },
  {
   "cell_type": "code",
   "execution_count": 29,
   "metadata": {},
   "outputs": [
    {
     "data": {
      "text/plain": [
       "241"
      ]
     },
     "execution_count": 29,
     "metadata": {},
     "output_type": "execute_result"
    }
   ],
   "source": [
    "np.size(data.spx_strikes.dropna())"
   ]
  },
  {
   "cell_type": "code",
   "execution_count": 30,
   "metadata": {},
   "outputs": [],
   "source": [
    "def price_call(S, K, T, t, r, delta, sigma):\n",
    "    d1 = 1/(sigma*np.sqrt(T-t))*np.log(S*np.exp(r*(T-t))/K) + sigma*np.sqrt(T-t)/2\n",
    "    d2 = 1/(sigma*np.sqrt(T-t))*np.log(S*np.exp(r*(T-t))/K) - sigma*np.sqrt(T-t)/2\n",
    "    return S*np.exp(-delta*(T-t))*stats.norm.cdf(d1) - np.exp(-r*(T-t))*K*stats.norm.cdf(d2)"
   ]
  },
  {
   "cell_type": "code",
   "execution_count": 31,
   "metadata": {},
   "outputs": [],
   "source": [
    "# pricing with Gaussian Copula\n",
    "\n",
    "# 1. Construct a set of undiscounted call prices for two assets separately, using implied vols and other params\n",
    "\n",
    "# SPX\n",
    "K_1 = data.spx_strikes.dropna()\n",
    "sig_1 = data.spx_implied_vols.dropna()\n",
    "#W_1 = stats.norm.rvs(0, T, np.size(K_1))\n",
    "C_1 = np.exp(r*T)*price_call(S0_1, K_1, T, 0, r, delta_1, sig_1)\n",
    "\n",
    "# AMZN\n",
    "K_2 = data.amzn_strikes.dropna()\n",
    "sig_2 = data.amzn_implied_vols.dropna()\n",
    "#W_2 = stats.norm.rvs(0, T, np.size(K_2))\n",
    "C_2 = np.exp(r*T)*price_call(S0_2, K_2, T, 0, r, delta_2, sig_2)"
   ]
  },
  {
   "cell_type": "code",
   "execution_count": 32,
   "metadata": {},
   "outputs": [
    {
     "data": {
      "text/plain": [
       "0      1426.799697\n",
       "1      1401.821894\n",
       "2      1376.868922\n",
       "3      1351.930835\n",
       "4      1327.000177\n",
       "          ...     \n",
       "236       5.403480\n",
       "237       4.899252\n",
       "238       4.798066\n",
       "239       4.757239\n",
       "240       4.755651\n",
       "Name: spx_strikes, Length: 241, dtype: float64"
      ]
     },
     "execution_count": 32,
     "metadata": {},
     "output_type": "execute_result"
    }
   ],
   "source": [
    "C_1"
   ]
  },
  {
   "cell_type": "code",
   "execution_count": 33,
   "metadata": {},
   "outputs": [
    {
     "data": {
      "text/plain": [
       "0      1274.014155\n",
       "1      1264.016259\n",
       "2      1254.019397\n",
       "3      1244.023569\n",
       "4      1234.028777\n",
       "          ...     \n",
       "272      24.195898\n",
       "273      22.559999\n",
       "274      22.519167\n",
       "275      22.516192\n",
       "276      22.544435\n",
       "Name: amzn_strikes, Length: 277, dtype: float64"
      ]
     },
     "execution_count": 33,
     "metadata": {},
     "output_type": "execute_result"
    }
   ],
   "source": [
    "C_2"
   ]
  },
  {
   "cell_type": "code",
   "execution_count": 19,
   "metadata": {},
   "outputs": [],
   "source": [
    "# Build the implied cdf Φ implied for each asset i = 1, 2, using the Breeden-Litzenberger formula (slide 1).\n",
    "\n",
    "cdf_1 = np.diff(C_1)/np.diff(K_1) + 1 # slide 4, implied dist of SPX \n",
    "cdf_2 = np.diff(C_2)/np.diff(K_2) + 1 # implied dist of AMZN"
   ]
  },
  {
   "cell_type": "code",
   "execution_count": 42,
   "metadata": {},
   "outputs": [
    {
     "data": {
      "image/png": "[encoded data removed]",
      "text/plain": [
       "<Figure size 432x288 with 1 Axes>"
      ]
     },
     "metadata": {
      "needs_background": "light"
     },
     "output_type": "display_data"
    }
   ],
   "source": [
    "plt.plot(K_1[:-1], cdf_1)\n",
    "plt.title(\"SPX Implied distribution\")\n",
    "plt.xlabel(\"Stock Price\")\n",
    "plt.ylabel(\"CDF\")\n",
    "plt.show()"
   ]
  },
  {
   "cell_type": "code",
   "execution_count": 44,
   "metadata": {},
   "outputs": [
    {
     "data": {
      "image/png": "[encoded data removed]",
      "text/plain": [
       "<Figure size 432x288 with 1 Axes>"
      ]
     },
     "metadata": {
      "needs_background": "light"
     },
     "output_type": "display_data"
    }
   ],
   "source": [
    "plt.plot(K_2[:-1], cdf_2)\n",
    "plt.title(\"Amazon Implied distribution\")\n",
    "plt.xlabel(\"Stock Price\")\n",
    "plt.ylabel(\"CDF\")\n",
    "plt.show()"
   ]
  },
  {
   "cell_type": "code",
   "execution_count": 20,
   "metadata": {},
   "outputs": [],
   "source": [
    "# Follow the algorthm in slide 14 to obtain a set of option prices.\n",
    "\n",
    "mu = np.array([0, 0])\n",
    "cov = np.array([[1, rho], [rho, 1]])\n",
    "X = np.random.multivariate_normal(mu, cov, size=num_sim)\n",
    "x1 = stats.norm.cdf(X[:, 0])\n",
    "x2 = stats.norm.cdf(X[:, 1])\n",
    "\n",
    "# inverse sampling\n",
    "imp_cdf_1 = interpolate.interp1d(cdf_1, K_1[:-1], fill_value=\"extrapolate\")\n",
    "imp_cdf_2 = interpolate.interp1d(cdf_2, K_2[:-1], fill_value=\"extrapolate\")\n",
    "\n",
    "inv_1 = lambda x: imp_cdf_1(x) - x1 # find the root x=S_T such that imp_cdf_1(S_T) = X_1 = normcdf(X)\n",
    "inv_2 = lambda x: imp_cdf_2(x) - x2\n",
    "\n",
    "S1T = inv_1(x1)\n",
    "S2T = inv_2(x2)\n",
    "\n",
    "# NOTE: the above could also be reduced to the following two lines:\n",
    "#S1_T = interpolate.interp1d(cdf_1, K_1[:-1], fill_value=\"extrapolate\")(x1)\n",
    "#S2_T = interpolate.interp1d(cdf_2, K_2[:-1], fill_value=\"extrapolate\")(x2)"
   ]
  },
  {
   "cell_type": "code",
   "execution_count": 21,
   "metadata": {},
   "outputs": [],
   "source": [
    "# payoffs simulated\n",
    "payoffs = np.maximum(S1T/S0_1 - S2T/S0_2, np.zeros(num_sim)) "
   ]
  },
  {
   "cell_type": "code",
   "execution_count": 22,
   "metadata": {},
   "outputs": [],
   "source": [
    "price_today = np.exp(-r*T)*np.mean(payoffs)"
   ]
  },
  {
   "cell_type": "code",
   "execution_count": 23,
   "metadata": {},
   "outputs": [
    {
     "data": {
      "text/plain": [
       "0.05711353332256947"
      ]
     },
     "execution_count": 23,
     "metadata": {},
     "output_type": "execute_result"
    }
   ],
   "source": [
    "price_today"
   ]
  },
  {
   "cell_type": "code",
   "execution_count": null,
   "metadata": {},
   "outputs": [],
   "source": []
  },
  {
   "cell_type": "code",
   "execution_count": null,
   "metadata": {},
   "outputs": [],
   "source": []
  },
  {
   "cell_type": "code",
   "execution_count": null,
   "metadata": {},
   "outputs": [],
   "source": []
  }
 ],
 "metadata": {
  "kernelspec": {
   "display_name": "Python 3",
   "language": "python",
   "name": "python3"
  },
  "language_info": {
   "codemirror_mode": {
    "name": "ipython",
    "version": 3
   },
   "file_extension": ".py",
   "mimetype": "text/x-python",
   "name": "python",
   "nbconvert_exporter": "python",
   "pygments_lexer": "ipython3",
   "version": "3.8.5"
  }
 },
 "nbformat": 4,
 "nbformat_minor": 4
}
